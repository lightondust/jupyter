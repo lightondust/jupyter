{
 "cells": [
  {
   "cell_type": "markdown",
   "metadata": {},
   "source": [
    "# Practical Machine Learning Tutorial with Python Introduction"
   ]
  },
  {
   "cell_type": "markdown",
   "metadata": {},
   "source": [
    "https://pythonprogramming.net/machine-learning-tutorial-python-introduction/\n",
    "This Jupyter Notebook contains student notes while following the course in Python 2.7 (the author is using Python 3)."
   ]
  },
  {
   "cell_type": "markdown",
   "metadata": {},
   "source": [
    "## Lesson 2: Regression - Intro and Data"
   ]
  },
  {
   "cell_type": "code",
   "execution_count": 2,
   "metadata": {
    "scrolled": true
   },
   "outputs": [],
   "source": [
    "import pandas as pd\n",
    "import quandl"
   ]
  },
  {
   "cell_type": "code",
   "execution_count": 3,
   "metadata": {
    "scrolled": false
   },
   "outputs": [
    {
     "name": "stdout",
     "output_type": "stream",
     "text": [
      "              Open    High     Low    Close      Volume  Ex-Dividend  \\\n",
      "Date                                                                   \n",
      "2004-08-19  100.01  104.06   95.96  100.335  44659000.0          0.0   \n",
      "2004-08-20  101.01  109.08  100.50  108.310  22834300.0          0.0   \n",
      "2004-08-23  110.76  113.48  109.05  109.400  18256100.0          0.0   \n",
      "2004-08-24  111.24  111.60  103.57  104.870  15247300.0          0.0   \n",
      "2004-08-25  104.76  108.00  103.88  106.000   9188600.0          0.0   \n",
      "\n",
      "            Split Ratio  Adj. Open  Adj. High   Adj. Low  Adj. Close  \\\n",
      "Date                                                                   \n",
      "2004-08-19          1.0  50.159839  52.191109  48.128568   50.322842   \n",
      "2004-08-20          1.0  50.661387  54.708881  50.405597   54.322689   \n",
      "2004-08-23          1.0  55.551482  56.915693  54.693835   54.869377   \n",
      "2004-08-24          1.0  55.792225  55.972783  51.945350   52.597363   \n",
      "2004-08-25          1.0  52.542193  54.167209  52.100830   53.164113   \n",
      "\n",
      "            Adj. Volume  \n",
      "Date                     \n",
      "2004-08-19   44659000.0  \n",
      "2004-08-20   22834300.0  \n",
      "2004-08-23   18256100.0  \n",
      "2004-08-24   15247300.0  \n",
      "2004-08-25    9188600.0  \n"
     ]
    }
   ],
   "source": [
    "df_orig = quandl.get(\"WIKI/GOOGL\", authtoken=\"gtknwWU6NHm3V44-JC3V\")\n",
    "print(df_orig.head())"
   ]
  },
  {
   "cell_type": "code",
   "execution_count": 7,
   "metadata": {
    "scrolled": false
   },
   "outputs": [
    {
     "name": "stdout",
     "output_type": "stream",
     "text": [
      "            Adj. Close    HL_PCT  PCT_change  Adj. Volume\n",
      "Date                                                     \n",
      "2004-08-19   50.322842  8.441017    0.324968   44659000.0\n",
      "2004-08-20   54.322689  8.537313    7.227007   22834300.0\n",
      "2004-08-23   54.869377  4.062357   -1.227880   18256100.0\n",
      "2004-08-24   52.597363  7.753210   -5.726357   15247300.0\n",
      "2004-08-25   53.164113  3.966115    1.183658    9188600.0\n"
     ]
    }
   ],
   "source": [
    "# create a new df on which we will do all our modifications\n",
    "# this allows us to keep df_orig in memory so we can limit the amount of\n",
    "# queries on Quandl\n",
    "df = df_orig.copy(deep=True)\n",
    "\n",
    "# create 2 new columns: High/Low Percent, and Percent_change\n",
    "df['HL_PCT'] = (df['Adj. High'] - df['Adj. Low']) / df['Adj. Low'] * 100\n",
    "df['PCT_change'] = (df['Adj. Close'] - df['Adj. Open']) / df['Adj. Open'] * 100\n",
    "\n",
    "# we are only interested in keeping these 4 columns:\n",
    "df = df[['Adj. Close','HL_PCT','PCT_change','Adj. Volume']]\n",
    "\n",
    "print(df.head())"
   ]
  },
  {
   "cell_type": "markdown",
   "metadata": {},
   "source": [
    "## Lesson 3: Regression - Features and Labels"
   ]
  },
  {
   "cell_type": "code",
   "execution_count": 210,
   "metadata": {
    "collapsed": true,
    "scrolled": false
   },
   "outputs": [],
   "source": [
    "import quandl\n",
    "import math\n",
    "import numpy as np\n",
    "import pandas as pd\n",
    "from sklearn import preprocessing, cross_validation, svm\n",
    "from sklearn.linear_model import LinearRegression"
   ]
  },
  {
   "cell_type": "code",
   "execution_count": 211,
   "metadata": {
    "scrolled": false
   },
   "outputs": [
    {
     "name": "stdout",
     "output_type": "stream",
     "text": [
      "            Adj. Close    HL_PCT  PCT_change  Adj. Volume\n",
      "Date                                                     \n",
      "2004-08-19      50.170  8.441017    0.340000   44659000.0\n",
      "2004-08-20      54.155  8.537313    7.227007   22834300.0\n",
      "2004-08-23      54.700  4.062357   -1.218962   18256100.0\n",
      "2004-08-24      52.435  7.753210   -5.726357   15247300.0\n",
      "2004-08-25      53.000  3.966115    0.990854    9188600.0\n",
      "            Adj. Close    HL_PCT  PCT_change  Adj. Volume\n",
      "Date                                                     \n",
      "2016-07-05      704.89  1.285884   -0.017021    1399205.0\n",
      "2016-07-06      708.97  2.002861    1.304584    1428996.0\n",
      "2016-07-07      707.26  1.355845   -0.401346    1053642.0\n",
      "2016-07-08      717.78  1.382554    1.016100    1463884.0\n",
      "2016-07-11      727.20  1.399971    1.081427    1430124.0\n",
      "            Adj. Close    HL_PCT  PCT_change  Adj. Volume   label\n",
      "Date                                                             \n",
      "2004-08-19      50.170  8.441017    0.340000   44659000.0  66.290\n",
      "2004-08-20      54.155  8.537313    7.227007   22834300.0  67.530\n",
      "2004-08-23      54.700  4.062357   -1.218962   18256100.0  69.185\n",
      "2004-08-24      52.435  7.753210   -5.726357   15247300.0  68.540\n",
      "2004-08-25      53.000  3.966115    0.990854    9188600.0  69.425\n",
      "            Adj. Close    HL_PCT  PCT_change  Adj. Volume  label\n",
      "Date                                                            \n",
      "2016-07-05      704.89  1.285884   -0.017021    1399205.0    NaN\n",
      "2016-07-06      708.97  2.002861    1.304584    1428996.0    NaN\n",
      "2016-07-07      707.26  1.355845   -0.401346    1053642.0    NaN\n",
      "2016-07-08      717.78  1.382554    1.016100    1463884.0    NaN\n",
      "2016-07-11      727.20  1.399971    1.081427    1430124.0    NaN\n"
     ]
    }
   ],
   "source": [
    "forecast_col = 'Adj. Close'\n",
    "df.fillna(value=-99999, inplace=True)\n",
    "\n",
    "print df.head()\n",
    "print df.tail()\n",
    "\n",
    "# math.ceil rounds up.  At runtime forecast_out should be 30.0.\n",
    "# that means we'll predict 30 days into the future.\n",
    "# So the second line (shift) ensures that the label at row 1 \n",
    "# will have the value of Adj.Close at row 31, and so on.\n",
    "forecast_out = int(math.ceil(0.01 * len(df)))       \n",
    "df['label'] = df2[forecast_col].shift(-forecast_out) \n",
    "\n",
    "print df.head()\n",
    "print df.tail()"
   ]
  },
  {
   "cell_type": "markdown",
   "metadata": {},
   "source": [
    "## Lesson 4: Training and testing"
   ]
  },
  {
   "cell_type": "code",
   "execution_count": 212,
   "metadata": {
    "scrolled": true
   },
   "outputs": [],
   "source": [
    "# define features\n",
    "X = np.array(df.drop(['label'], 1))\n",
    "X = preprocessing.scale(X)\n",
    "X_lately = X[-forecast_out:]   # these are the X values that DON'T have a forecast.  Used to make predictions against.\n",
    "X = X[:-forecast_out]          # these are the X values that DO have a forecast.  Used for training.\n",
    "df.dropna(inplace=True)\n",
    "\n",
    "# define labels\n",
    "y = np.array(df['label'])\n",
    "\n",
    "# set up crossvalidation\n",
    "X_train, X_test, y_train, y_test = cross_validation.train_test_split(X, y, test_size=0.2)"
   ]
  },
  {
   "cell_type": "code",
   "execution_count": 213,
   "metadata": {
    "scrolled": false
   },
   "outputs": [
    {
     "name": "stdout",
     "output_type": "stream",
     "text": [
      "linear 0.964266461789\n",
      "poly 0.658263989065\n",
      "rbf 0.800077964775\n",
      "sigmoid -0.0639080456893\n"
     ]
    }
   ],
   "source": [
    "# Train with Support Vector Regression (SVR)\n",
    "for k in ['linear', 'poly', 'rbf', 'sigmoid']:\n",
    "    clf = svm.SVR(kernel=k)\n",
    "    clf.fit(X_train, y_train)\n",
    "    \n",
    "    # test how well we trained\n",
    "    confidence = clf.score(X_test, y_test)\n",
    "    print k, confidence"
   ]
  },
  {
   "cell_type": "code",
   "execution_count": 214,
   "metadata": {
    "scrolled": true
   },
   "outputs": [
    {
     "name": "stdout",
     "output_type": "stream",
     "text": [
      "0.965385598191\n"
     ]
    }
   ],
   "source": [
    "# Train with Linear Regression\n",
    "clf = LinearRegression(n_jobs=-1)\n",
    "clf.fit(X_train, y_train)\n",
    "\n",
    "# Test how well we trained\n",
    "confidence = clf.score(X_test, y_test)\n",
    "print confidence"
   ]
  },
  {
   "cell_type": "markdown",
   "metadata": {},
   "source": [
    "## Lesson 5: Predicting"
   ]
  },
  {
   "cell_type": "code",
   "execution_count": 215,
   "metadata": {
    "scrolled": true
   },
   "outputs": [
    {
     "name": "stdout",
     "output_type": "stream",
     "text": [
      "[ 750.04687707  751.83169348  752.01554506  747.25393799  739.68293008\n",
      "  733.62236884  735.10379677  746.08803972  745.99532983  736.67388275\n",
      "  735.35288561  736.50955029  736.23525211  726.81143363  706.10602939\n",
      "  709.61635713  712.5164007   714.50055157  717.40269343  686.70817454\n",
      "  684.62011142  695.36918557  699.22069361  706.1710037   713.86804517\n",
      "  708.81961134  711.83565101  711.32778352  721.09557574  730.31620768]\n"
     ]
    }
   ],
   "source": [
    "# here we take all X values that we didn't have forecasts for, and make a prediction,\n",
    "# !!! We're using the last trained model from above !!!\n",
    "forecast_set = clf.predict(X_lately)\n",
    "print forecast_set"
   ]
  },
  {
   "cell_type": "code",
   "execution_count": 216,
   "metadata": {
    "collapsed": true
   },
   "outputs": [],
   "source": [
    "import datetime\n",
    "import time\n",
    "import matplotlib.pyplot as plt\n",
    "from matplotlib import style\n",
    "\n",
    "style.use('ggplot')\n",
    "df['Forecast'] = np.nan"
   ]
  },
  {
   "cell_type": "code",
   "execution_count": 217,
   "metadata": {},
   "outputs": [],
   "source": [
    "# our first prediction is going to be for the day just after the last day in X\n",
    "last_date = df.iloc[-1].name\n",
    "last_unix = time.mktime(datetime.date(last_date.year, last_date.month, last_date.day).timetuple())\n",
    "one_day = 86400\n",
    "next_unix = last_unix + one_day"
   ]
  },
  {
   "cell_type": "code",
   "execution_count": 218,
   "metadata": {},
   "outputs": [
    {
     "name": "stdout",
     "output_type": "stream",
     "text": [
      "            Adj. Close    HL_PCT  PCT_change  Adj. Volume   label    Forecast\n",
      "2016-05-20      721.71  1.774800    0.732769    1710030.0  704.89         NaN\n",
      "2016-05-23      717.24  0.914986   -0.380566    1228165.0  708.97         NaN\n",
      "2016-05-24      733.03  2.022525    1.830937    1879157.0  707.26         NaN\n",
      "2016-05-25      738.10  0.995086    0.421769    1606551.0  717.78         NaN\n",
      "2016-05-26      736.93  1.105048    0.126359    1283896.0  727.20         NaN\n",
      "2016-05-27         NaN       NaN         NaN          NaN     NaN  750.046877\n",
      "2016-05-28         NaN       NaN         NaN          NaN     NaN  751.831693\n",
      "2016-05-29         NaN       NaN         NaN          NaN     NaN  752.015545\n",
      "2016-05-30         NaN       NaN         NaN          NaN     NaN  747.253938\n",
      "2016-05-31         NaN       NaN         NaN          NaN     NaN  739.682930\n",
      "2016-06-01         NaN       NaN         NaN          NaN     NaN  733.622369\n",
      "2016-06-02         NaN       NaN         NaN          NaN     NaN  735.103797\n",
      "2016-06-03         NaN       NaN         NaN          NaN     NaN  746.088040\n",
      "2016-06-04         NaN       NaN         NaN          NaN     NaN  745.995330\n",
      "2016-06-05         NaN       NaN         NaN          NaN     NaN  736.673883\n",
      "2016-06-06         NaN       NaN         NaN          NaN     NaN  735.352886\n",
      "2016-06-07         NaN       NaN         NaN          NaN     NaN  736.509550\n",
      "2016-06-08         NaN       NaN         NaN          NaN     NaN  736.235252\n",
      "2016-06-09         NaN       NaN         NaN          NaN     NaN  726.811434\n",
      "2016-06-10         NaN       NaN         NaN          NaN     NaN  706.106029\n",
      "2016-06-11         NaN       NaN         NaN          NaN     NaN  709.616357\n",
      "2016-06-12         NaN       NaN         NaN          NaN     NaN  712.516401\n",
      "2016-06-13         NaN       NaN         NaN          NaN     NaN  714.500552\n",
      "2016-06-14         NaN       NaN         NaN          NaN     NaN  717.402693\n",
      "2016-06-15         NaN       NaN         NaN          NaN     NaN  686.708175\n",
      "2016-06-16         NaN       NaN         NaN          NaN     NaN  684.620111\n",
      "2016-06-17         NaN       NaN         NaN          NaN     NaN  695.369186\n",
      "2016-06-18         NaN       NaN         NaN          NaN     NaN  699.220694\n",
      "2016-06-19         NaN       NaN         NaN          NaN     NaN  706.171004\n",
      "2016-06-20         NaN       NaN         NaN          NaN     NaN  713.868045\n",
      "2016-06-21         NaN       NaN         NaN          NaN     NaN  708.819611\n",
      "2016-06-22         NaN       NaN         NaN          NaN     NaN  711.835651\n",
      "2016-06-23         NaN       NaN         NaN          NaN     NaN  711.327784\n",
      "2016-06-24         NaN       NaN         NaN          NaN     NaN  721.095576\n",
      "2016-06-25         NaN       NaN         NaN          NaN     NaN  730.316208\n"
     ]
    }
   ],
   "source": [
    "# add forecasts to the existing dataframe\n",
    "for i in forecast_set:\n",
    "    next_date = datetime.datetime.fromtimestamp(next_unix)\n",
    "    next_unix += 86400\n",
    "    df.loc[next_date] = [np.nan for _ in range(len(df.columns)-1)] + [i]\n",
    "\n",
    "print df.tail(forecast_out+5)"
   ]
  },
  {
   "cell_type": "code",
   "execution_count": 219,
   "metadata": {
    "collapsed": true
   },
   "outputs": [],
   "source": [
    "# graph it\n",
    "df['Adj. Close'].plot()\n",
    "df['Forecast'].plot()\n",
    "plt.legend(loc=4)\n",
    "plt.xlabel('Date')\n",
    "plt.ylabel('Price')\n",
    "plt.show()"
   ]
  },
  {
   "cell_type": "markdown",
   "metadata": {},
   "source": [
    "## Lesson 6: Scaling by using Pickle"
   ]
  },
  {
   "cell_type": "code",
   "execution_count": 221,
   "metadata": {
    "collapsed": true
   },
   "outputs": [],
   "source": [
    "import pickle\n",
    "\n",
    "# saving the trained classifier to a binary file for later use\n",
    "with open('linearregression.pickle','wb') as f:\n",
    "    pickle.dump(clf, f)\n",
    "\n",
    "# read it from disk again\n",
    "pickle_in = open('linearregression.pickle','rb')\n",
    "clf = pickle.load(pickle_in)"
   ]
  }
 ],
 "metadata": {
  "kernelspec": {
   "display_name": "Python 3",
   "language": "python",
   "name": "python3"
  },
  "language_info": {
   "codemirror_mode": {
    "name": "ipython",
    "version": 3
   },
   "file_extension": ".py",
   "mimetype": "text/x-python",
   "name": "python",
   "nbconvert_exporter": "python",
   "pygments_lexer": "ipython3",
   "version": "3.6.4"
  },
  "toc": {
   "nav_menu": {},
   "number_sections": true,
   "sideBar": true,
   "skip_h1_title": false,
   "toc_cell": false,
   "toc_position": {},
   "toc_section_display": "block",
   "toc_window_display": false
  }
 },
 "nbformat": 4,
 "nbformat_minor": 1
}

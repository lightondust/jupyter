{
 "cells": [
  {
   "cell_type": "code",
   "execution_count": 1,
   "metadata": {},
   "outputs": [
    {
     "name": "stdout",
     "output_type": "stream",
     "text": [
      "Hello, world.\n"
     ]
    },
    {
     "data": {
      "text/plain": [
       "No Outputs"
      ]
     },
     "execution_count": 1,
     "metadata": {},
     "output_type": "execute_result"
    }
   ],
   "source": [
    "public class Hajimete {\n",
    "    public static void main(String[] args){\n",
    "        System.out.println(\"Hello, world.\");\n",
    "    }\n",
    "}"
   ]
  },
  {
   "cell_type": "code",
   "execution_count": 1,
   "metadata": {},
   "outputs": [
    {
     "name": "stdout",
     "output_type": "stream",
     "text": [
      "Hello, world.\n"
     ]
    },
    {
     "data": {
      "text/plain": [
       "No Outputs"
      ]
     },
     "execution_count": 1,
     "metadata": {},
     "output_type": "execute_result"
    }
   ],
   "source": [
    "public class Hajimete {\n",
    "    public static void main(String[] args){\n",
    "        System.out.println(\"Hello, world.\");\n",
    "    }\n",
    "}"
   ]
  },
  {
   "cell_type": "code",
   "execution_count": 26,
   "metadata": {},
   "outputs": [
    {
     "data": {
      "text/html": [
       "-3"
      ]
     },
     "execution_count": 26,
     "metadata": {},
     "output_type": "execute_result"
    }
   ],
   "source": [
    "2147483647 + 2147483646"
   ]
  },
  {
   "cell_type": "code",
   "execution_count": 25,
   "metadata": {},
   "outputs": [
    {
     "data": {
      "text/html": [
       "0&#8203;.0"
      ]
     },
     "execution_count": 25,
     "metadata": {},
     "output_type": "execute_result"
    }
   ],
   "source": [
    "float a = 0.1;\n",
    "float b = 0.2\n",
    "float[] res = new float[2];\n",
    "res[0]=a+b;\n",
    "res[1]=b+a;\n",
    "res[0]-res[1];"
   ]
  },
  {
   "cell_type": "code",
   "execution_count": 27,
   "metadata": {},
   "outputs": [
    {
     "data": {
      "text/html": [
       "2&#8203;.0"
      ]
     },
     "execution_count": 27,
     "metadata": {},
     "output_type": "execute_result"
    }
   ],
   "source": [
    "1+1.0"
   ]
  },
  {
   "cell_type": "code",
   "execution_count": 1,
   "metadata": {
    "scrolled": true
   },
   "outputs": [
    {
     "name": "stderr",
     "output_type": "stream",
     "text": [
      "Resolving dependency: org.jsoup#jsoup;1.11.2 {default=[default]}\n",
      "Preparing to download artifact org.jsoup#jsoup;1.11.2!jsoup.jar\n",
      "Downloaded 383 Kbytes in 1370ms:\n",
      "  [SUCCESSFUL ] org.jsoup#jsoup;1.11.2!jsoup.jar (1335ms)\n"
     ]
    },
    {
     "data": {
      "text/plain": [
       "No Outputs"
      ]
     },
     "execution_count": 1,
     "metadata": {},
     "output_type": "execute_result"
    }
   ],
   "source": [
    "#@dependency(group=\"org.jsoup\", module=\"jsoup\", version=\"1.11.2\")"
   ]
  },
  {
   "cell_type": "code",
   "execution_count": 22,
   "metadata": {},
   "outputs": [
    {
     "data": {
      "text/plain": [
       "No Outputs"
      ]
     },
     "execution_count": 22,
     "metadata": {},
     "output_type": "execute_result"
    }
   ],
   "source": [
    "import org.jsoup.Jsoup;\n",
    "import org.jsoup.nodes.Document;\n",
    "\n",
    "Document document = Jsoup.connect(\"http://www.d-frontier-life.co.jp/\").get();\n",
    "println(document.html());"
   ]
  },
  {
   "cell_type": "code",
   "execution_count": 17,
   "metadata": {},
   "outputs": [
    {
     "data": {
      "text/plain": [
       "No Outputs"
      ]
     },
     "execution_count": 17,
     "metadata": {},
     "output_type": "execute_result"
    }
   ],
   "source": [
    "import org.jsoup.nodes.Document;"
   ]
  },
  {
   "cell_type": "code",
   "execution_count": 21,
   "metadata": {},
   "outputs": [
    {
     "name": "stderr",
     "output_type": "stream",
     "text": [
      "org.codehaus.groovy.control.MultipleCompilationErrorsException: startup failed:\n",
      "Script18.groovy: 1: unable to resolve class Document \n",
      " @ line 1, column 10.\n",
      "   Document document = Jsoup.connect(\"http://www.d-frontier-life.co.jp/customer/pastrate/index.html\").get();\n",
      "            ^\n",
      "\n",
      "1 error\n",
      "\n",
      "\tat org.codehaus.groovy.control.ErrorCollector.failIfErrors(ErrorCollector.java:310)\n",
      "\tat org.codehaus.groovy.control.CompilationUnit.applyToSourceUnits(CompilationUnit.java:958)\n",
      "\tat org.codehaus.groovy.control.CompilationUnit.doPhaseOperation(CompilationUnit.java:605)\n",
      "\tat org.codehaus.groovy.control.CompilationUnit.compile(CompilationUnit.java:554)\n",
      "\tat groovy.lang.GroovyClassLoader.doParseClass(GroovyClassLoader.java:298)\n",
      "\tat groovy.lang.GroovyClassLoader.parseClass(GroovyClassLoader.java:268)\n",
      "\tat groovy.lang.GroovyClassLoader.parseClass(GroovyClassLoader.java:254)\n",
      "\tat groovy.lang.GroovyClassLoader.parseClass(GroovyClassLoader.java:250)\n",
      "\tat org.scijava.plugins.scripting.groovy.GroovyScriptEngine.getScriptClass(GroovyScriptEngine.java:319)\n",
      "\tat org.scijava.plugins.scripting.groovy.GroovyScriptEngine.eval(GroovyScriptEngine.java:122)\n",
      "\tat javax.script.AbstractScriptEngine.eval(AbstractScriptEngine.java:264)\n",
      "\tat org.scijava.script.ScriptModule.run(ScriptModule.java:159)\n",
      "\tat org.scijava.module.ModuleRunner.run(ModuleRunner.java:167)\n",
      "\tat org.scijava.jupyter.kernel.evaluator.Worker.run(Worker.java:109)\n",
      "\tat org.scijava.thread.DefaultThreadService$2.run(DefaultThreadService.java:220)\n",
      "\tat java.util.concurrent.Executors$RunnableAdapter.call(Executors.java:511)\n",
      "\tat java.util.concurrent.FutureTask.run(FutureTask.java:266)\n",
      "\tat java.util.concurrent.ThreadPoolExecutor.runWorker(ThreadPoolExecutor.java:1142)\n",
      "\tat java.util.concurrent.ThreadPoolExecutor$Worker.run(ThreadPoolExecutor.java:617)\n",
      "\tat java.lang.Thread.run(Thread.java:745)\n"
     ]
    },
    {
     "data": {
      "text/plain": [
       "No Outputs"
      ]
     },
     "execution_count": 21,
     "metadata": {},
     "output_type": "execute_result"
    }
   ],
   "source": [
    "Document document = Jsoup.connect(\"http://www.d-frontier-life.co.jp/customer/pastrate/index.html\").get();\n",
    "println(document.html());"
   ]
  },
  {
   "cell_type": "code",
   "execution_count": 23,
   "metadata": {},
   "outputs": [
    {
     "name": "stderr",
     "output_type": "stream",
     "text": [
      "org.codehaus.groovy.control.MultipleCompilationErrorsException: startup failed:\n",
      "Script20.groovy: 3: unable to resolve class Document \n",
      " @ line 3, column 18.\n",
      "           Document document = Jsoup.connect(\"http://www.d-frontier-life.co.jp/customer/pastrate/index.html\").get();\n",
      "                    ^\n",
      "\n",
      "1 error\n",
      "\n",
      "\tat org.codehaus.groovy.control.ErrorCollector.failIfErrors(ErrorCollector.java:310)\n",
      "\tat org.codehaus.groovy.control.CompilationUnit.applyToSourceUnits(CompilationUnit.java:958)\n",
      "\tat org.codehaus.groovy.control.CompilationUnit.doPhaseOperation(CompilationUnit.java:605)\n",
      "\tat org.codehaus.groovy.control.CompilationUnit.compile(CompilationUnit.java:554)\n",
      "\tat groovy.lang.GroovyClassLoader.doParseClass(GroovyClassLoader.java:298)\n",
      "\tat groovy.lang.GroovyClassLoader.parseClass(GroovyClassLoader.java:268)\n",
      "\tat groovy.lang.GroovyClassLoader.parseClass(GroovyClassLoader.java:254)\n",
      "\tat groovy.lang.GroovyClassLoader.parseClass(GroovyClassLoader.java:250)\n",
      "\tat org.scijava.plugins.scripting.groovy.GroovyScriptEngine.getScriptClass(GroovyScriptEngine.java:319)\n",
      "\tat org.scijava.plugins.scripting.groovy.GroovyScriptEngine.eval(GroovyScriptEngine.java:122)\n",
      "\tat javax.script.AbstractScriptEngine.eval(AbstractScriptEngine.java:264)\n",
      "\tat org.scijava.script.ScriptModule.run(ScriptModule.java:159)\n",
      "\tat org.scijava.module.ModuleRunner.run(ModuleRunner.java:167)\n",
      "\tat org.scijava.jupyter.kernel.evaluator.Worker.run(Worker.java:109)\n",
      "\tat org.scijava.thread.DefaultThreadService$2.run(DefaultThreadService.java:220)\n",
      "\tat java.util.concurrent.Executors$RunnableAdapter.call(Executors.java:511)\n",
      "\tat java.util.concurrent.FutureTask.run(FutureTask.java:266)\n",
      "\tat java.util.concurrent.ThreadPoolExecutor.runWorker(ThreadPoolExecutor.java:1142)\n",
      "\tat java.util.concurrent.ThreadPoolExecutor$Worker.run(ThreadPoolExecutor.java:617)\n",
      "\tat java.lang.Thread.run(Thread.java:745)\n"
     ]
    },
    {
     "data": {
      "text/plain": [
       "No Outputs"
      ]
     },
     "execution_count": 23,
     "metadata": {},
     "output_type": "execute_result"
    }
   ],
   "source": [
    "    public static void main(String[] args) throws IOException {\n",
    "\n",
    "        Document document = Jsoup.connect(\"http://www.d-frontier-life.co.jp/customer/pastrate/index.html\").get();\n",
    "        System.out.println(document.html());\n",
    "        \n",
    "    }"
   ]
  },
  {
   "cell_type": "code",
   "execution_count": null,
   "metadata": {
    "collapsed": true
   },
   "outputs": [],
   "source": []
  }
 ],
 "metadata": {
  "kernelspec": {
   "display_name": "SciJava",
   "language": "groovy",
   "name": "scijava"
  },
  "language_info": {
   "codemirror_mode": "groovy",
   "file_extension": "",
   "mimetype": "",
   "name": "scijava",
   "nbconverter_exporter": "",
   "pygments_lexer": "groovy",
   "version": "1.0"
  },
  "toc": {
   "nav_menu": {},
   "number_sections": true,
   "sideBar": true,
   "skip_h1_title": false,
   "toc_cell": false,
   "toc_position": {},
   "toc_section_display": "block",
   "toc_window_display": false
  }
 },
 "nbformat": 4,
 "nbformat_minor": 2
}

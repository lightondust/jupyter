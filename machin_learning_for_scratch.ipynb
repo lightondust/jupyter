{
 "cells": [
  {
   "cell_type": "markdown",
   "metadata": {},
   "source": [
    "# ジュピターでニューラルネットワークと遊ぼう"
   ]
  },
  {
   "cell_type": "markdown",
   "metadata": {},
   "source": [
    "## ニューラルネットワークとは"
   ]
  },
  {
   "cell_type": "markdown",
   "metadata": {},
   "source": []
  },
  {
   "cell_type": "markdown",
   "metadata": {},
   "source": [
    "## 準備"
   ]
  },
  {
   "cell_type": "markdown",
   "metadata": {},
   "source": [
    "### パッケージ読み込み"
   ]
  },
  {
   "cell_type": "code",
   "execution_count": 1,
   "metadata": {},
   "outputs": [],
   "source": [
    "import sys, os\n",
    "import numpy as np\n",
    "import pickle\n",
    "from machine_learning_for_scratch.dataset.mnist import load_mnist\n",
    "from PIL import Image\n",
    "import math\n",
    "import matplotlib.pyplot as plt"
   ]
  },
  {
   "cell_type": "markdown",
   "metadata": {},
   "source": [
    "### 関数"
   ]
  },
  {
   "cell_type": "markdown",
   "metadata": {},
   "source": [
    "シグモイド関数\n",
    "$$\n",
    "\\sigma(x) = \\frac{1}{1+\\exp{(-x)}}\n",
    "$$\n",
    "ソフトマックス関数\n",
    "$$\n",
    "y_k = \\frac{\\exp{(a_k)}}{{\\displaystyle \\sum^{n}_{i=1}} \\exp{(a_i)}}\n",
    "$$\n"
   ]
  },
  {
   "cell_type": "code",
   "execution_count": 2,
   "metadata": {},
   "outputs": [
    {
     "data": {
      "image/png": "[encoded data removed]",
      "text/plain": [
       "<matplotlib.figure.Figure at 0x6422f70>"
      ]
     },
     "metadata": {},
     "output_type": "display_data"
    }
   ],
   "source": [
    "def sigmoid(x):\n",
    "    return 1 / (1 + np.exp(-x))    \n",
    "\n",
    "def softmax(x):\n",
    "    if x.ndim == 2:\n",
    "        x = x.T\n",
    "        x = x - np.max(x, axis=0)\n",
    "        y = np.exp(x) / np.sum(np.exp(x), axis=0)\n",
    "        return y.T \n",
    "\n",
    "    x = x - np.max(x) # オーバーフロー対策\n",
    "    return np.exp(x) / np.sum(np.exp(x))\n",
    "\n",
    "def step_function(x):\n",
    "    return np.array(x > 0, dtype=np.int)\n",
    "\n",
    "x = np.arange(-5.0, 5.0, 0.1)\n",
    "y1 = sigmoid(x)\n",
    "y2 = step_function(x)\n",
    "\n",
    "plt.plot(x, y1)\n",
    "plt.plot(x, y2, 'k--')\n",
    "plt.ylim(-0.1, 1.1) #図で描画するy軸の範囲を指定\n",
    "plt.show()"
   ]
  },
  {
   "cell_type": "markdown",
   "metadata": {},
   "source": [
    "### MNIST"
   ]
  },
  {
   "cell_type": "markdown",
   "metadata": {},
   "source": [
    "解析用にMNISTデータ読み込み"
   ]
  },
  {
   "cell_type": "code",
   "execution_count": 3,
   "metadata": {},
   "outputs": [],
   "source": [
    "def get_data():\n",
    "    (x_train, t_train), (x_test, t_test) = load_mnist(normalize=True, flatten=True, one_hot_label=False)\n",
    "    return x_test, t_test"
   ]
  },
  {
   "cell_type": "markdown",
   "metadata": {},
   "source": [
    "画像確認"
   ]
  },
  {
   "cell_type": "code",
   "execution_count": 4,
   "metadata": {},
   "outputs": [],
   "source": [
    "def img_show(img):\n",
    "    img = img*255\n",
    "    img = img.reshape(28, 28)\n",
    "    pil_img = Image.fromarray(np.uint8(img))\n",
    "    pil_img.show()"
   ]
  },
  {
   "cell_type": "code",
   "execution_count": 17,
   "metadata": {},
   "outputs": [],
   "source": [
    "def plt_show(img):\n",
    "    img = img*255\n",
    "    plt.imshow(img.reshape(28,28))\n",
    "    plt.show()"
   ]
  },
  {
   "cell_type": "code",
   "execution_count": 6,
   "metadata": {
    "scrolled": true
   },
   "outputs": [
    {
     "data": {
      "image/png": "[encoded data removed]",
      "text/plain": [
       "<matplotlib.figure.Figure at 0x6422bd0>"
      ]
     },
     "metadata": {},
     "output_type": "display_data"
    },
    {
     "name": "stdout",
     "output_type": "stream",
     "text": [
      "答： 9\n"
     ]
    }
   ],
   "source": [
    "i=9\n",
    "x, t = get_data()\n",
    "#img_show(x[1])\n",
    "plt_show(x[i])\n",
    "print(\"答：\", t[i])"
   ]
  },
  {
   "cell_type": "code",
   "execution_count": 7,
   "metadata": {},
   "outputs": [
    {
     "data": {
      "text/plain": [
       "10000"
      ]
     },
     "execution_count": 7,
     "metadata": {},
     "output_type": "execute_result"
    }
   ],
   "source": [
    "len(x)"
   ]
  },
  {
   "cell_type": "markdown",
   "metadata": {},
   "source": [
    "### ネットワーク周り"
   ]
  },
  {
   "cell_type": "markdown",
   "metadata": {},
   "source": [
    "ネットワーク読み込み"
   ]
  },
  {
   "cell_type": "code",
   "execution_count": 8,
   "metadata": {
    "slideshow": {
     "slide_type": "-"
    }
   },
   "outputs": [],
   "source": [
    "def init_network():\n",
    "    with open(os.path.join(\"machine_learning_for_scratch\",\"sample_weight.pkl\"), 'rb') as f:\n",
    "        network = pickle.load(f)\n",
    "    return network"
   ]
  },
  {
   "cell_type": "markdown",
   "metadata": {},
   "source": [
    "ネットワーク使用"
   ]
  },
  {
   "cell_type": "code",
   "execution_count": 9,
   "metadata": {},
   "outputs": [],
   "source": [
    "def predict(network, x):\n",
    "    W1, W2, W3 = network['W1'], network['W2'], network['W3']\n",
    "    b1, b2, b3 = network['b1'], network['b2'], network['b3']\n",
    "\n",
    "    a1 = np.dot(x, W1) + b1\n",
    "    z1 = sigmoid(a1)\n",
    "    a2 = np.dot(z1, W2) + b2\n",
    "    z2 = sigmoid(a2)\n",
    "    a3 = np.dot(z2, W3) + b3\n",
    "    y = softmax(a3)\n",
    "\n",
    "    return y"
   ]
  },
  {
   "cell_type": "markdown",
   "metadata": {},
   "source": [
    "## 解析開始"
   ]
  },
  {
   "cell_type": "markdown",
   "metadata": {},
   "source": [
    "とりあえず解析してみる。\n",
    "\n",
    "セッティング："
   ]
  },
  {
   "cell_type": "code",
   "execution_count": 11,
   "metadata": {},
   "outputs": [],
   "source": [
    "x, t = get_data()\n",
    "network = init_network()\n",
    "accuracy_cnt = 0\n",
    "wrong = []"
   ]
  },
  {
   "cell_type": "code",
   "execution_count": 12,
   "metadata": {},
   "outputs": [
    {
     "name": "stdout",
     "output_type": "stream",
     "text": [
      "答： 9 。予想： 9\n"
     ]
    }
   ],
   "source": [
    "y = predict(network,x[i])\n",
    "p = np.argmax(y)\n",
    "print(\"答：\",t[i],\"。予想：\",p)"
   ]
  },
  {
   "cell_type": "markdown",
   "metadata": {},
   "source": [
    "精度確認"
   ]
  },
  {
   "cell_type": "code",
   "execution_count": 13,
   "metadata": {},
   "outputs": [
    {
     "name": "stdout",
     "output_type": "stream",
     "text": [
      "Accuracy:0.9352\n"
     ]
    }
   ],
   "source": [
    "for i in range(len(x)):\n",
    "    y = predict(network, x[i])\n",
    "    p= np.argmax(y) # 最も確率の高い要素のインデックスを取得\n",
    "    if p == t[i]:\n",
    "        accuracy_cnt += 1\n",
    "    else:\n",
    "        wrong.append(i)\n",
    "\n",
    "print(\"Accuracy:\" + str(float(accuracy_cnt) / len(x)))"
   ]
  },
  {
   "cell_type": "markdown",
   "metadata": {},
   "source": [
    "間違えた図を見てみる"
   ]
  },
  {
   "cell_type": "code",
   "execution_count": 14,
   "metadata": {},
   "outputs": [
    {
     "data": {
      "image/png": "[encoded data removed]",
      "text/plain": [
       "<matplotlib.figure.Figure at 0x6505990>"
      ]
     },
     "metadata": {},
     "output_type": "display_data"
    },
    {
     "name": "stdout",
     "output_type": "stream",
     "text": [
      "答： 3 。予想： 8\n"
     ]
    }
   ],
   "source": [
    "i=78\n",
    "plt_show(x[wrong[i]])\n",
    "print(\"答：\",t[wrong[i]],\"。予想：\",np.argmax(predict(network,x[wrong[i]])))"
   ]
  },
  {
   "cell_type": "markdown",
   "metadata": {},
   "source": [
    "## いろいろプロットしてみる"
   ]
  },
  {
   "cell_type": "code",
   "execution_count": 15,
   "metadata": {},
   "outputs": [
    {
     "data": {
      "image/png": "[encoded data removed]",
      "text/plain": [
       "<matplotlib.figure.Figure at 0x65eec70>"
      ]
     },
     "metadata": {},
     "output_type": "display_data"
    }
   ],
   "source": [
    "plt.imshow(network[\"W1\"])\n",
    "plt.show()"
   ]
  },
  {
   "cell_type": "code",
   "execution_count": 19,
   "metadata": {},
   "outputs": [
    {
     "data": {
      "image/png": "[encoded data removed]",
      "text/plain": [
       "<matplotlib.figure.Figure at 0x66f03d0>"
      ]
     },
     "metadata": {},
     "output_type": "display_data"
    },
    {
     "data": {
      "image/png": "[encoded data removed]",
      "text/plain": [
       "<matplotlib.figure.Figure at 0x662f8b0>"
      ]
     },
     "metadata": {},
     "output_type": "display_data"
    },
    {
     "data": {
      "image/png": "[encoded data removed]",
      "text/plain": [
       "<matplotlib.figure.Figure at 0x66647d0>"
      ]
     },
     "metadata": {},
     "output_type": "display_data"
    },
    {
     "data": {
      "image/png": "[encoded data removed]",
      "text/plain": [
       "<matplotlib.figure.Figure at 0x66b43f0>"
      ]
     },
     "metadata": {},
     "output_type": "display_data"
    },
    {
     "data": {
      "image/png": "[encoded data removed]",
      "text/plain": [
       "<matplotlib.figure.Figure at 0x675d9b0>"
      ]
     },
     "metadata": {},
     "output_type": "display_data"
    },
    {
     "data": {
      "image/png": "[encoded data removed]",
      "text/plain": [
       "<matplotlib.figure.Figure at 0x785e950>"
      ]
     },
     "metadata": {},
     "output_type": "display_data"
    },
    {
     "data": {
      "image/png": "[encoded data removed]",
      "text/plain": [
       "<matplotlib.figure.Figure at 0x77e0170>"
      ]
     },
     "metadata": {},
     "output_type": "display_data"
    },
    {
     "data": {
      "image/png": "[encoded data removed]",
      "text/plain": [
       "<matplotlib.figure.Figure at 0x60b49b0>"
      ]
     },
     "metadata": {},
     "output_type": "display_data"
    },
    {
     "data": {
      "image/png": "[encoded data removed]",
      "text/plain": [
       "<matplotlib.figure.Figure at 0x66ba250>"
      ]
     },
     "metadata": {},
     "output_type": "display_data"
    },
    {
     "data": {
      "image/png": "[encoded data removed]",
      "text/plain": [
       "<matplotlib.figure.Figure at 0x785a4b0>"
      ]
     },
     "metadata": {},
     "output_type": "display_data"
    }
   ],
   "source": [
    "for i in range(20,30):\n",
    "    plt_show(network[\"W1\"][0:784,i])"
   ]
  },
  {
   "cell_type": "code",
   "execution_count": 20,
   "metadata": {},
   "outputs": [
    {
     "data": {
      "text/plain": [
       "dict_keys(['b2', 'W1', 'b1', 'W2', 'W3', 'b3'])"
      ]
     },
     "execution_count": 20,
     "metadata": {},
     "output_type": "execute_result"
    }
   ],
   "source": [
    "network.keys()"
   ]
  },
  {
   "cell_type": "code",
   "execution_count": 21,
   "metadata": {},
   "outputs": [
    {
     "data": {
      "text/plain": [
       "array([ 0.20352413, -0.33930475,  0.06150815, -0.26631057, -0.07892901,\n",
       "       -0.2160303 , -0.22190729, -0.01528745, -0.01297976,  0.05398425,\n",
       "       -0.15247467,  0.18364453,  0.11850423,  0.31343549, -0.25951135,\n",
       "        0.15251592, -0.07604213,  0.09956405,  0.20716119,  0.01191536,\n",
       "       -0.0500697 ,  0.10915728,  0.04131675, -0.09007927,  0.10182612,\n",
       "       -0.13656642,  0.23715706, -0.17780851,  0.25585544,  0.17799285,\n",
       "        0.12032107,  0.07057133, -0.15111442,  0.02421915, -0.04981516,\n",
       "        0.2289737 ,  0.17567438,  0.22678043,  0.04445645,  0.01567732,\n",
       "        0.04406427,  0.02775704,  0.10654916, -0.18257031,  0.09333349,\n",
       "        0.07071131, -0.1976741 , -0.28023955,  0.10439868, -0.21244228], dtype=float32)"
      ]
     },
     "execution_count": 21,
     "metadata": {},
     "output_type": "execute_result"
    }
   ],
   "source": [
    "network[\"W1\"][350]"
   ]
  },
  {
   "cell_type": "code",
   "execution_count": 11,
   "metadata": {},
   "outputs": [
    {
     "name": "stdout",
     "output_type": "stream",
     "text": [
      "b2 (100,)\n",
      "W1 (784, 50)\n",
      "b1 (50,)\n",
      "W2 (50, 100)\n",
      "W3 (100, 10)\n",
      "b3 (10,)\n"
     ]
    }
   ],
   "source": [
    "for key in network.keys():\n",
    "    print(key, network[key].shape)"
   ]
  },
  {
   "cell_type": "markdown",
   "metadata": {},
   "source": [
    "## ネットワークを逆向きに計算してみる"
   ]
  },
  {
   "cell_type": "code",
   "execution_count": 22,
   "metadata": {},
   "outputs": [],
   "source": [
    "W1, W2, W3 = network['W1'], network['W2'], network['W3']\n",
    "b1, b2, b3 = network['b1'], network['b2'], network['b3']"
   ]
  },
  {
   "cell_type": "code",
   "execution_count": 23,
   "metadata": {},
   "outputs": [],
   "source": [
    "a1 = np.dot(x[100], W1) + b1\n",
    "z1 = sigmoid(a1)\n",
    "a2 = np.dot(z1, W2) + b2\n",
    "z2 = sigmoid(a2)\n",
    "a3 = np.dot(z2, W3) + b3\n",
    "y = softmax(a3)"
   ]
  },
  {
   "cell_type": "code",
   "execution_count": 24,
   "metadata": {},
   "outputs": [
    {
     "name": "stdout",
     "output_type": "stream",
     "text": [
      "[  1.64981786e-04   2.80873734e-04   4.46586162e-02   6.82160753e-05\n",
      "   1.76548329e-03   7.07103754e-04   9.52186167e-01   3.33890021e-05\n",
      "   1.32181682e-04   3.10497694e-06]\n"
     ]
    },
    {
     "data": {
      "text/plain": [
       "6"
      ]
     },
     "execution_count": 24,
     "metadata": {},
     "output_type": "execute_result"
    }
   ],
   "source": [
    "print(y)\n",
    "np.argmax(y)"
   ]
  },
  {
   "cell_type": "code",
   "execution_count": 25,
   "metadata": {},
   "outputs": [
    {
     "data": {
      "text/plain": [
       "array([[ -4.21735764e-01,   6.89445496e-01,   8.78510177e-02,\n",
       "         -4.83838320e-01,  -1.95891604e-01,  -3.11136067e-01,\n",
       "          5.49542189e-01,   5.37674278e-02,  -3.05000603e-01,\n",
       "          2.75984704e-02],\n",
       "       [ -5.24320543e-01,  -1.43624887e-01,  -4.42160573e-03,\n",
       "          4.17745829e-01,   2.15625867e-01,  -2.56584466e-01,\n",
       "         -1.00939667e+00,   8.12479675e-01,  -3.98552269e-02,\n",
       "          8.23425591e-01],\n",
       "       [  6.82799876e-01,  -5.12037337e-01,  -4.41083580e-01,\n",
       "         -8.21710154e-02,   3.19505751e-01,   1.08093655e+00,\n",
       "          2.96021044e-01,  -4.06458199e-01,  -3.87590617e-01,\n",
       "         -9.11374271e-01],\n",
       "       [  1.55144155e-01,   6.78902492e-02,   9.47823405e-01,\n",
       "         -1.68429948e-02,  -5.80456555e-01,   3.27762365e-02,\n",
       "          3.62194031e-01,   7.43931830e-01,  -8.67070615e-01,\n",
       "         -8.71464610e-01],\n",
       "       [  5.05435288e-01,  -2.73010045e-01,  -3.86344641e-02,\n",
       "          1.62854403e-01,  -6.88129485e-01,   3.32544267e-01,\n",
       "          2.02865437e-01,   9.50981900e-02,   1.51449129e-01,\n",
       "         -7.51806647e-02],\n",
       "       [ -1.96135119e-01,  -1.86595306e-01,  -7.12956667e-01,\n",
       "          1.86611667e-01,   4.71210986e-01,   2.42333114e-01,\n",
       "         -6.10382736e-01,   7.51007020e-01,  -3.54771428e-02,\n",
       "          3.63117427e-01],\n",
       "       [ -3.40776503e-01,   1.12583566e+00,  -7.88639635e-02,\n",
       "         -2.40077689e-01,  -1.88947007e-01,   2.77629793e-01,\n",
       "          5.58597930e-02,   7.87557483e-01,  -7.21895814e-01,\n",
       "         -6.01844311e-01],\n",
       "       [ -5.99524677e-01,   7.77958393e-01,  -6.34838939e-01,\n",
       "         -4.66428464e-03,   7.62679726e-02,  -5.22314072e-01,\n",
       "         -5.41155636e-01,   1.18006003e+00,  -5.90134799e-01,\n",
       "          6.01088047e-01],\n",
       "       [ -3.76633376e-01,   5.10982513e-01,  -2.23146994e-02,\n",
       "         -2.52363771e-01,  -3.46366763e-01,   2.64313281e-01,\n",
       "          3.83371353e-01,  -7.59539828e-02,   1.97959334e-01,\n",
       "         -4.29215163e-01],\n",
       "       [  6.50213897e-01,  -3.07582080e-01,  -1.82832479e-01,\n",
       "          3.61862123e-01,  -2.20673040e-01,   2.36749575e-01,\n",
       "          1.46889806e-01,  -8.55163217e-01,  -4.77893144e-01,\n",
       "          5.95522761e-01],\n",
       "       [  9.80530322e-01,  -2.83191472e-01,   4.37024772e-01,\n",
       "          3.36801678e-01,  -7.04811275e-01,   5.14311731e-01,\n",
       "          3.63065779e-01,   1.93833143e-01,  -9.63333666e-01,\n",
       "         -9.99653816e-01],\n",
       "       [ -5.14112294e-01,  -5.21245450e-02,   8.73817950e-02,\n",
       "          6.49854317e-02,  -6.79773763e-02,   5.75620718e-02,\n",
       "          2.17452496e-02,   2.97408521e-01,   6.58227876e-02,\n",
       "          5.48533797e-02],\n",
       "       [ -1.22029677e-01,  -5.97060800e-01,  -1.67890251e-01,\n",
       "         -7.57286906e-01,   3.32458198e-01,   4.26246405e-01,\n",
       "         -5.21180809e-01,   2.07759365e-01,  -3.89716327e-02,\n",
       "          7.81422555e-01],\n",
       "       [  1.54342026e-01,  -3.68901044e-01,   5.82112253e-01,\n",
       "          5.15596330e-01,  -5.64041555e-01,  -4.99413550e-01,\n",
       "         -8.81392837e-01,   2.10159346e-01,   1.86985135e-01,\n",
       "         -4.38510999e-02],\n",
       "       [  4.54860330e-01,  -3.00265312e-01,   6.81924820e-01,\n",
       "         -2.64147162e-01,  -2.18347400e-01,   1.88041180e-01,\n",
       "          3.81713420e-01,  -7.35825658e-01,   2.48639315e-01,\n",
       "         -4.43372279e-01],\n",
       "       [ -5.25331438e-01,   1.18984044e+00,   3.92173350e-01,\n",
       "          6.12658978e-01,  -6.09629095e-01,  -1.64488718e-01,\n",
       "         -4.21452105e-01,  -1.57024071e-01,   4.09224838e-01,\n",
       "         -4.47212726e-01],\n",
       "       [  6.64840162e-01,  -4.77979153e-01,  -2.65062183e-01,\n",
       "          6.36108816e-01,  -1.42231810e+00,   3.43148038e-02,\n",
       "         -1.16741645e+00,   7.00149655e-01,   1.24187134e-01,\n",
       "          9.88344133e-01],\n",
       "       [  9.01858881e-02,   1.87217399e-01,   2.40680173e-01,\n",
       "          2.17940882e-01,  -4.56552237e-01,   1.17312826e-01,\n",
       "          1.69359997e-01,  -4.43112820e-01,   3.64482552e-01,\n",
       "         -1.11816239e+00],\n",
       "       [  4.91134822e-01,  -9.00796771e-01,  -5.36716223e-01,\n",
       "         -7.89842069e-01,   3.83926064e-01,   2.72480428e-01,\n",
       "         -2.04326913e-01,   1.29462862e-02,   8.45103979e-01,\n",
       "          4.70017105e-01],\n",
       "       [  5.84113061e-01,  -5.51996469e-01,   6.50859475e-01,\n",
       "          8.69455695e-01,  -1.85319453e-01,  -6.97416365e-01,\n",
       "         -1.75041392e-01,   9.19872299e-02,  -2.56296039e-01,\n",
       "         -7.93265477e-02],\n",
       "       [ -6.92425907e-01,  -1.96424216e-01,  -2.89716989e-01,\n",
       "          4.59242135e-01,   3.48947614e-01,  -1.67159468e-01,\n",
       "          1.60998300e-01,  -8.09544206e-01,   6.75078809e-01,\n",
       "          1.56182379e-01],\n",
       "       [ -1.29524320e-02,   3.38228792e-01,   5.93463369e-02,\n",
       "         -6.87147900e-02,  -5.87453544e-01,   7.74757266e-02,\n",
       "         -2.76282996e-01,   2.38401830e-01,   6.18681967e-01,\n",
       "         -5.51157482e-02],\n",
       "       [ -1.18962085e+00,   2.37674057e-01,   7.05483854e-02,\n",
       "          2.19739154e-01,   8.16889703e-01,  -3.32062960e-01,\n",
       "         -5.38534045e-01,   1.60113409e-01,  -8.55953246e-02,\n",
       "          5.15658796e-01],\n",
       "       [  4.10203546e-01,   6.13717549e-03,   5.66948950e-01,\n",
       "         -2.59074479e-01,  -1.50069296e-01,   2.25018293e-01,\n",
       "          4.06786650e-01,  -7.35297143e-01,  -3.46720248e-01,\n",
       "         -2.61616319e-01],\n",
       "       [  4.59970772e-01,  -4.31826115e-01,  -8.56852472e-01,\n",
       "          7.73031771e-01,   1.38916939e-01,   5.60679853e-01,\n",
       "          2.40944013e-01,  -8.48280013e-01,  -3.33365619e-01,\n",
       "          4.76054907e-01],\n",
       "       [ -9.88283753e-02,  -1.76046476e-01,   5.23827970e-01,\n",
       "          4.93311286e-01,  -3.64566833e-01,  -6.25113010e-01,\n",
       "         -1.03237808e-01,   1.33148193e-01,  -2.17261493e-01,\n",
       "          4.12722528e-01],\n",
       "       [  1.01385760e+00,  -8.49169970e-01,  -5.17473184e-02,\n",
       "          1.36904821e-01,  -2.97809035e-01,  -2.57933736e-01,\n",
       "          9.45847854e-02,   1.84433058e-01,  -9.48848128e-02,\n",
       "         -1.27696171e-01],\n",
       "       [  1.10258982e-01,  -1.13074876e-01,   3.61660570e-01,\n",
       "          6.37016416e-01,  -9.38879609e-01,   4.03465390e-01,\n",
       "         -8.38840306e-01,   8.87874886e-02,   6.13263905e-01,\n",
       "         -2.62609452e-01],\n",
       "       [  3.35207991e-02,  -3.10817391e-01,   6.60446942e-01,\n",
       "         -8.03743303e-02,  -3.53499681e-01,   1.35674715e-01,\n",
       "          7.04031825e-01,  -5.38375497e-01,   2.68499017e-01,\n",
       "         -3.45674306e-01],\n",
       "       [  5.69811165e-01,  -5.41205049e-01,   2.31889188e-02,\n",
       "          4.89905447e-01,  -2.72151738e-01,   5.81560850e-01,\n",
       "         -1.45812467e-01,  -6.32519484e-01,   1.47586465e-01,\n",
       "         -4.30490822e-01],\n",
       "       [ -1.78033903e-01,   4.55413640e-01,   2.76871175e-01,\n",
       "          7.92362913e-02,  -1.37377933e-01,  -5.41430473e-01,\n",
       "          1.04435158e+00,  -2.25798294e-01,  -5.47417521e-01,\n",
       "         -6.21576250e-01],\n",
       "       [ -3.71773511e-01,   1.31890997e-01,   9.79362205e-02,\n",
       "          6.88198984e-01,  -1.36723658e-02,  -4.33259517e-01,\n",
       "          2.70418584e-01,   6.90640584e-02,  -7.96580434e-01,\n",
       "         -5.26694544e-02],\n",
       "       [ -7.46119380e-01,   9.01669323e-01,  -2.98285723e-01,\n",
       "         -6.93346620e-01,   2.22594962e-01,   3.04485057e-02,\n",
       "          6.12528384e-01,   2.91027486e-01,  -6.12122193e-02,\n",
       "          2.26576433e-01],\n",
       "       [  3.48814666e-01,  -4.58619356e-01,  -6.81712866e-01,\n",
       "         -8.45831633e-01,   3.85846436e-01,   3.74807537e-01,\n",
       "          6.80784345e-01,   4.05046254e-01,  -3.60009670e-01,\n",
       "          4.06914890e-01],\n",
       "       [ -2.68160850e-01,   1.07725048e+00,  -2.42447808e-01,\n",
       "         -2.51773655e-01,  -4.94481117e-01,   7.93285251e-01,\n",
       "         -1.86872244e-01,   2.33764172e-01,   7.65040368e-02,\n",
       "         -5.82407176e-01],\n",
       "       [ -2.11705387e-01,  -1.51310667e-01,   4.11912441e-01,\n",
       "         -3.43303621e-01,   8.63409936e-01,  -1.09486476e-01,\n",
       "          3.09372574e-01,   9.14473683e-02,  -8.08858573e-01,\n",
       "         -4.53698725e-01],\n",
       "       [ -8.46252620e-01,   2.60528892e-01,  -2.08791450e-01,\n",
       "          3.45685095e-01,   3.24550092e-01,   1.55364513e-01,\n",
       "         -7.04575300e-01,  -3.74434799e-01,   6.25603318e-01,\n",
       "          2.56761312e-01],\n",
       "       [  1.74457684e-01,   1.81623884e-02,   5.10722816e-01,\n",
       "          1.43729225e-01,  -5.16600788e-01,  -1.29177034e-01,\n",
       "         -2.84929127e-01,   7.80223534e-02,  -1.95045814e-01,\n",
       "         -3.94748539e-01],\n",
       "       [ -9.24672037e-02,  -2.23728850e-01,  -9.66394618e-02,\n",
       "         -4.45146620e-01,   6.13103390e-01,  -3.68567199e-01,\n",
       "          3.70431751e-01,   2.21393555e-01,  -2.72072498e-02,\n",
       "          5.77588558e-01],\n",
       "       [  4.03020531e-01,  -2.55338818e-01,  -8.18292499e-01,\n",
       "         -7.23324642e-02,  -1.96062587e-02,   1.01438415e+00,\n",
       "         -1.16559081e-01,   8.81542623e-01,  -4.94637221e-01,\n",
       "          1.04218423e-01],\n",
       "       [  2.29111224e-01,   7.30729550e-02,   1.22222453e-01,\n",
       "          3.62838387e-01,  -3.36847633e-01,   3.46625239e-01,\n",
       "          4.59826976e-01,  -1.19660234e+00,   6.46007299e-01,\n",
       "         -3.92430216e-01],\n",
       "       [ -6.43994093e-01,  -2.67290205e-01,   9.30678025e-02,\n",
       "          3.94550234e-01,   1.39838919e-01,  -1.74355850e-01,\n",
       "         -6.76944792e-01,  -2.02130079e-01,   7.06950128e-01,\n",
       "          5.73860466e-01],\n",
       "       [  1.07093401e-01,  -2.68440068e-01,  -2.92150110e-01,\n",
       "          1.73880085e-01,  -3.07512134e-01,  -3.96545947e-01,\n",
       "         -1.84642792e-01,   3.94368291e-01,  -4.25530560e-02,\n",
       "          3.89361382e-01],\n",
       "       [ -9.44061875e-01,   3.12739849e-01,   7.40508661e-02,\n",
       "          3.96307945e-01,   5.65728784e-01,  -7.04721391e-01,\n",
       "         -5.46964332e-02,  -2.59483963e-01,   1.21336356e-01,\n",
       "          1.15879285e+00],\n",
       "       [ -3.42181930e-03,  -2.76601106e-01,   1.77765489e-01,\n",
       "         -1.00918278e-01,   5.06949902e-01,   1.84735537e-01,\n",
       "          3.32832158e-01,  -2.01131087e-02,  -9.75943431e-02,\n",
       "         -6.96182191e-01],\n",
       "       [  3.78743917e-01,  -1.30411685e-01,   5.25011957e-01,\n",
       "         -4.92531627e-01,   8.44208971e-02,  -4.36175138e-01,\n",
       "          4.46968526e-01,  -6.69526532e-02,  -2.38409087e-01,\n",
       "          1.86576545e-01],\n",
       "       [ -1.38466686e-01,   2.03825533e-01,   7.62569189e-01,\n",
       "          5.65001488e-01,  -4.62089807e-01,  -9.06799734e-02,\n",
       "         -3.04654509e-01,  -3.25737983e-01,   3.49818558e-01,\n",
       "         -2.02839971e-01],\n",
       "       [  2.19535548e-02,  -5.79012573e-01,  -2.61314094e-01,\n",
       "         -7.66233563e-01,   6.20492339e-01,   2.91753441e-01,\n",
       "          3.10217768e-01,   1.84355244e-01,  -3.97317529e-01,\n",
       "          1.77944213e-01],\n",
       "       [  8.36480111e-02,   1.80452511e-01,  -1.26577318e-01,\n",
       "          1.01459846e-01,  -4.49865282e-01,   2.09935844e-01,\n",
       "         -8.78130078e-01,   3.66405249e-01,  -5.88898994e-02,\n",
       "          1.14128381e-01],\n",
       "       [  4.04730767e-01,  -2.30980113e-01,  -2.02063665e-01,\n",
       "         -8.40371922e-02,   3.85631770e-01,  -2.53033131e-01,\n",
       "         -7.08307028e-01,   4.86081317e-02,   5.63206136e-01,\n",
       "         -2.45178029e-01],\n",
       "       [  1.23736739e-01,   6.76029548e-03,  -4.96723533e-01,\n",
       "          1.10396254e+00,   9.44059342e-02,   1.11372745e+00,\n",
       "          1.17447861e-02,  -6.46701455e-01,  -4.05388534e-01,\n",
       "         -6.19069815e-01],\n",
       "       [ -4.22820002e-01,   1.78682953e-01,  -3.56148094e-01,\n",
       "          2.37796769e-01,  -3.54685962e-01,   3.11215729e-01,\n",
       "          4.49742610e-03,  -4.62334067e-01,   1.25280845e+00,\n",
       "          2.57526368e-01],\n",
       "       [  5.01734205e-03,  -2.78115179e-02,   8.33090007e-01,\n",
       "         -9.38227713e-01,   4.41729516e-01,  -2.41064683e-01,\n",
       "          2.70801604e-01,  -2.75141865e-01,   2.39632681e-01,\n",
       "         -2.43629783e-01],\n",
       "       [  1.65217429e-01,   1.71752870e-01,  -3.43052834e-01,\n",
       "         -6.45057321e-01,   4.53449517e-01,   1.79140553e-01,\n",
       "          4.08720821e-01,  -8.79922092e-01,   4.29752409e-01,\n",
       "          3.10203969e-01],\n",
       "       [  4.18428481e-01,   6.94155693e-01,   3.97938192e-01,\n",
       "          4.51456159e-01,  -7.18708575e-01,   9.63209383e-03,\n",
       "         -4.92072105e-01,   5.09976700e-04,  -2.95970529e-01,\n",
       "         -4.95860398e-01],\n",
       "       [ -1.76199555e-01,   7.09368765e-01,  -2.31948897e-01,\n",
       "          3.25359583e-01,  -4.63672340e-01,   7.24577367e-01,\n",
       "         -4.43653435e-01,  -1.68254837e-01,   2.95370251e-01,\n",
       "         -4.97434855e-01],\n",
       "       [ -1.87396109e-01,  -2.23947570e-01,   2.42886275e-01,\n",
       "         -2.86557496e-01,   2.73342788e-01,  -1.13700256e-02,\n",
       "         -3.06602985e-01,   5.72437823e-01,  -2.42054805e-01,\n",
       "          3.46188515e-01],\n",
       "       [ -1.17365503e+00,   5.90703338e-02,  -1.56762972e-01,\n",
       "          1.38338506e-01,   6.11611664e-01,  -1.62515834e-01,\n",
       "         -2.27308512e-01,   5.09866297e-01,   7.78953657e-02,\n",
       "         -8.07275623e-03],\n",
       "       [ -1.22156359e-01,  -2.62149960e-01,  -2.96030581e-01,\n",
       "         -6.09369529e-03,   8.27431440e-01,   1.45755662e-02,\n",
       "          1.35886416e-01,   4.84385580e-01,  -6.17888629e-01,\n",
       "         -2.57963389e-01],\n",
       "       [ -1.18745811e-01,  -3.78561169e-02,   8.41072202e-02,\n",
       "          1.59376860e-01,   2.78664678e-01,  -5.57438016e-01,\n",
       "         -1.06849708e-01,   7.62400031e-02,  -1.46159276e-01,\n",
       "          6.71272278e-01],\n",
       "       [ -4.58585024e-01,  -2.70307302e-01,   8.93705249e-01,\n",
       "          4.14883375e-01,   5.04897237e-01,  -5.52910447e-01,\n",
       "          7.95029774e-02,   3.26490283e-01,  -4.37226027e-01,\n",
       "         -1.50011420e-01],\n",
       "       [ -2.27586448e-01,   2.70228744e-01,  -1.38651179e-02,\n",
       "         -1.68369621e-01,  -6.68714801e-03,   1.84312925e-01,\n",
       "         -2.07858533e-01,  -7.48970136e-02,   2.81839728e-01,\n",
       "          1.62073016e-01],\n",
       "       [ -2.93510854e-01,   5.90191126e-01,  -8.06541979e-01,\n",
       "          4.55247253e-01,  -6.28962517e-02,   4.05282497e-01,\n",
       "         -8.00064087e-01,   1.01426566e+00,  -9.47925091e-01,\n",
       "          1.12049413e+00],\n",
       "       [  1.03260410e+00,  -3.75866979e-01,  -2.32749850e-01,\n",
       "          3.54511850e-02,   1.59004685e-02,   1.35123044e-01,\n",
       "         -1.82888061e-01,   5.62692165e-01,  -7.38840044e-01,\n",
       "         -1.65996298e-01],\n",
       "       [ -3.03140342e-01,  -3.99403989e-01,  -1.24023721e-01,\n",
       "          8.09619203e-02,   6.03184886e-02,  -3.47880661e-01,\n",
       "         -3.64323795e-01,   7.73909748e-01,  -5.57690300e-02,\n",
       "          7.16391385e-01],\n",
       "       [ -9.02440190e-01,   4.48047310e-01,   3.87582779e-01,\n",
       "         -1.07054925e+00,   6.14855111e-01,  -4.32848215e-01,\n",
       "          6.89762652e-01,   1.21512324e-01,   1.68398306e-01,\n",
       "         -5.61287642e-01],\n",
       "       [ -6.52550608e-02,   5.19375086e-01,   2.36409321e-01,\n",
       "          1.48231626e-01,  -1.71541229e-01,   4.79659773e-02,\n",
       "          6.95545554e-01,  -7.34554410e-01,   5.00819862e-01,\n",
       "         -8.43456626e-01],\n",
       "       [ -5.33281922e-01,   5.26653945e-01,   1.57454126e-02,\n",
       "          1.46121949e-01,   2.76504960e-02,  -8.91758129e-02,\n",
       "          4.62411702e-01,   5.36043644e-02,   2.31896397e-02,\n",
       "         -6.53083622e-01],\n",
       "       [  3.93885463e-01,   2.22290620e-01,  -8.66812587e-01,\n",
       "         -4.42612439e-01,  -1.09500468e-01,   3.44947040e-01,\n",
       "          4.43797231e-01,  -3.26241434e-01,  -1.91667125e-01,\n",
       "          2.68693328e-01],\n",
       "       [  5.09423316e-01,  -1.10831499e+00,  -6.63363814e-01,\n",
       "          6.10601194e-02,   4.62890774e-01,   2.16605678e-01,\n",
       "         -2.04363316e-01,  -3.48413497e-01,   5.46411932e-01,\n",
       "          1.59806624e-01],\n",
       "       [  5.03182411e-01,  -4.58128005e-01,  -1.23811312e-01,\n",
       "         -7.70608895e-03,  -5.03727078e-01,  -1.03737101e-01,\n",
       "         -6.97336435e-01,   8.40921402e-02,   9.15018559e-01,\n",
       "          4.06962276e-01],\n",
       "       [ -3.36555511e-01,   2.32747003e-01,  -6.51690245e-01,\n",
       "          1.92894682e-01,   4.90722917e-02,   4.82812226e-01,\n",
       "          5.17001033e-01,  -3.74707580e-01,  -7.26062572e-03,\n",
       "         -2.24724170e-02],\n",
       "       [ -8.20727646e-01,   2.77037054e-01,  -4.00716156e-01,\n",
       "         -6.01541400e-01,   5.41227221e-01,  -1.07606472e-02,\n",
       "          1.13190107e-01,  -7.11759388e-01,   7.47027993e-01,\n",
       "          3.95591497e-01],\n",
       "       [ -9.64956045e-01,   6.50479198e-01,   1.57247171e-01,\n",
       "          1.21039891e+00,  -6.58656538e-01,  -2.88676590e-01,\n",
       "         -5.25724113e-01,   6.54611349e-01,  -3.65922421e-01,\n",
       "          4.67684865e-02],\n",
       "       [ -4.69699763e-02,  -3.76960456e-01,  -8.73867750e-01,\n",
       "         -2.19822064e-01,   6.68559313e-01,   5.76594114e-01,\n",
       "         -2.38980711e-01,   1.74888268e-01,  -1.48410887e-01,\n",
       "          5.87270916e-01],\n",
       "       [  3.56634349e-01,  -5.18213026e-02,   9.20258999e-01,\n",
       "         -1.40335053e-01,  -4.26269978e-01,  -6.22207582e-01,\n",
       "          5.75894825e-02,   5.12691498e-01,  -2.06441224e-01,\n",
       "         -2.68630385e-01],\n",
       "       [ -3.19506019e-01,   2.53038436e-01,   1.83337316e-01,\n",
       "         -2.11295307e-01,  -5.53449214e-01,  -4.45205271e-01,\n",
       "         -1.75601929e-01,   4.42056775e-01,   6.44582987e-01,\n",
       "          2.00125635e-01],\n",
       "       [ -7.43463695e-01,   2.60086924e-01,  -1.95406988e-01,\n",
       "         -4.23818171e-01,   8.64849150e-01,  -2.67847985e-01,\n",
       "         -1.79303423e-01,  -4.71354812e-01,   5.73067427e-01,\n",
       "          3.13313872e-01],\n",
       "       [ -2.63424993e-01,  -2.83117831e-01,  -2.91389525e-01,\n",
       "          5.06457686e-01,   7.84329653e-01,  -5.26254058e-01,\n",
       "          7.48095810e-01,  -4.18872535e-01,  -8.39335993e-02,\n",
       "          2.52932400e-01],\n",
       "       [  4.14991900e-02,  -4.03793097e-01,  -1.95395365e-01,\n",
       "          2.11023405e-01,   1.32343337e-01,   2.31272504e-01,\n",
       "         -1.18078411e+00,   1.86573476e-01,   7.68505335e-02,\n",
       "          3.85415733e-01],\n",
       "       [  1.09860265e+00,  -1.09753442e+00,   3.80715638e-01,\n",
       "         -6.38348997e-01,  -1.58655971e-01,   1.94847152e-01,\n",
       "         -7.95399770e-02,   9.50471818e-01,  -3.16824853e-01,\n",
       "         -2.83558935e-01],\n",
       "       [ -2.77928740e-01,   2.24254742e-01,  -3.28038484e-01,\n",
       "          2.36775950e-01,   4.65092897e-01,   1.14463799e-01,\n",
       "         -4.18108590e-02,   1.95581898e-01,  -7.47340381e-01,\n",
       "         -2.79023498e-01],\n",
       "       [  7.56891370e-02,  -1.96978986e-01,   6.49631858e-01,\n",
       "          4.44254547e-01,   4.46472913e-01,  -2.43867710e-01,\n",
       "          3.44643325e-01,  -6.73000336e-01,   1.98133841e-01,\n",
       "         -7.13343263e-01],\n",
       "       [  3.50795746e-01,  -2.43827224e-01,   2.70755768e-01,\n",
       "         -1.88798487e-01,   2.67679513e-01,  -2.67900437e-01,\n",
       "         -2.25820035e-01,   1.41538918e-01,  -6.25311971e-01,\n",
       "         -7.91989092e-04],\n",
       "       [  6.04720116e-01,  -1.23945558e+00,  -9.89200622e-02,\n",
       "         -8.47476780e-01,   1.88840643e-01,   1.78689778e-01,\n",
       "          3.30614984e-01,   2.13386491e-01,   1.40828237e-01,\n",
       "          5.96347034e-01],\n",
       "       [ -1.29010156e-01,  -4.19559628e-01,   8.10783267e-01,\n",
       "         -7.79421180e-02,  -6.39355540e-01,   1.82476446e-01,\n",
       "          4.43780273e-02,   2.43306741e-01,   3.22627991e-01,\n",
       "         -6.96950316e-01],\n",
       "       [ -2.65945554e-01,   2.54204452e-01,  -2.81551868e-01,\n",
       "          3.05856839e-02,   3.32366735e-01,  -2.72288859e-01,\n",
       "         -1.56741664e-01,   7.37876654e-01,  -3.42516750e-01,\n",
       "         -3.38515751e-02],\n",
       "       [ -2.21063226e-01,  -1.61017135e-01,  -3.43953133e-01,\n",
       "          7.71231763e-03,   3.99634361e-01,   4.22857910e-01,\n",
       "          1.07494044e+00,   1.67980686e-01,  -5.57168424e-01,\n",
       "         -9.82021630e-01],\n",
       "       [ -3.34168285e-01,   4.13684517e-01,   8.20092857e-02,\n",
       "          2.00068444e-01,  -6.36684000e-01,   6.32712722e-01,\n",
       "          6.26974523e-01,  -7.68007815e-01,   7.41086155e-02,\n",
       "         -7.47185767e-01],\n",
       "       [ -1.13031104e-01,   2.84815133e-01,   4.20125455e-01,\n",
       "         -4.12524790e-01,   2.86876053e-01,  -5.96397281e-01,\n",
       "         -6.13868050e-02,  -2.01329246e-01,   1.37402400e-01,\n",
       "          4.73863035e-02],\n",
       "       [ -8.77382278e-01,   7.03926206e-01,  -5.87477982e-01,\n",
       "          8.03793550e-01,  -5.38776457e-01,   8.71291935e-01,\n",
       "         -4.21437055e-01,   1.79496706e-01,  -2.01206416e-01,\n",
       "          2.20881462e-01],\n",
       "       [  4.79993403e-01,  -3.88967425e-01,   6.42738879e-01,\n",
       "         -2.66709924e-01,  -2.35347107e-01,  -5.27117729e-01,\n",
       "          2.24357635e-01,   4.09907281e-01,  -2.55028307e-01,\n",
       "         -3.98389012e-01],\n",
       "       [ -2.36967623e-01,   2.08492681e-01,   4.95875329e-02,\n",
       "         -2.54601955e-01,  -1.96262509e-01,   2.20791083e-02,\n",
       "          5.87105930e-01,  -1.76071987e-01,  -2.93505043e-01,\n",
       "         -6.90922514e-02],\n",
       "       [  3.72552484e-01,   1.13524333e-01,   1.47908121e-01,\n",
       "         -5.87250233e-01,  -5.45590937e-01,   2.20800832e-01,\n",
       "         -1.86717466e-01,  -2.76110709e-01,   1.63341820e-01,\n",
       "          9.27756205e-02],\n",
       "       [  6.91043854e-01,  -7.39305258e-01,   3.66775483e-01,\n",
       "          2.29010403e-01,  -2.62648702e-01,  -3.35895628e-01,\n",
       "          4.16883469e-01,  -4.66414630e-01,  -4.81522113e-01,\n",
       "          5.41691422e-01],\n",
       "       [ -5.42117991e-02,   8.16400051e-02,  -2.16311708e-01,\n",
       "         -6.47027910e-01,   4.48576599e-01,  -2.78799266e-01,\n",
       "          6.27859950e-01,  -3.13865662e-01,   3.10088933e-01,\n",
       "          5.49431086e-01],\n",
       "       [ -4.22955692e-01,   4.71692123e-02,   5.09801149e-01,\n",
       "         -4.14053082e-01,   1.48667157e-01,  -1.13204829e-01,\n",
       "          1.46537170e-01,  -8.12405765e-01,   7.64870703e-01,\n",
       "         -9.93795879e-03],\n",
       "       [ -4.50043291e-01,   7.81999648e-01,   2.15509236e-01,\n",
       "         -3.13456476e-01,  -4.41162616e-01,  -8.88375938e-02,\n",
       "          1.30276158e-01,  -7.62776807e-02,   4.38656509e-01,\n",
       "         -3.53991002e-01],\n",
       "       [ -5.44507623e-01,   5.37671924e-01,   2.79337078e-01,\n",
       "          6.31389797e-01,  -3.13700497e-01,  -9.68888775e-02,\n",
       "         -8.03692937e-01,   3.23311478e-01,   5.13087690e-01,\n",
       "         -3.67015935e-02],\n",
       "       [  1.07227898e+00,  -3.73002291e-01,  -3.47672790e-01,\n",
       "         -6.34944439e-01,  -2.26390660e-01,   8.66467118e-01,\n",
       "         -1.20632663e-01,   1.60931930e-01,  -2.61490524e-01,\n",
       "          3.17717306e-02]], dtype=float32)"
      ]
     },
     "execution_count": 25,
     "metadata": {},
     "output_type": "execute_result"
    }
   ],
   "source": [
    "W3"
   ]
  },
  {
   "cell_type": "code",
   "execution_count": 68,
   "metadata": {},
   "outputs": [
    {
     "name": "stdout",
     "output_type": "stream",
     "text": [
      "18\n"
     ]
    }
   ],
   "source": [
    "for i in range(1,1000):\n",
    "    if t[i] == 3:\n",
    "        print(i)\n",
    "        break"
   ]
  },
  {
   "cell_type": "code",
   "execution_count": 39,
   "metadata": {},
   "outputs": [],
   "source": [
    "img_show(x[3]*255)"
   ]
  },
  {
   "cell_type": "code",
   "execution_count": 18,
   "metadata": {},
   "outputs": [
    {
     "data": {
      "text/plain": [
       "array([  4.83633252e-03,   1.10458664e-03,   9.44252312e-01,\n",
       "         1.43091511e-02,   5.69896656e-07,   6.67604851e-03,\n",
       "         2.75334045e-02,   1.27084218e-06,   1.28642481e-03,\n",
       "         4.78648055e-08], dtype=float32)"
      ]
     },
     "execution_count": 18,
     "metadata": {},
     "output_type": "execute_result"
    }
   ],
   "source": [
    "y"
   ]
  },
  {
   "cell_type": "code",
   "execution_count": 44,
   "metadata": {},
   "outputs": [
    {
     "data": {
      "text/plain": [
       "array([ 2.07899594,  0.60231042,  7.35323238,  3.16373825, -6.96721649,\n",
       "        2.40136504,  3.81823897, -6.16523695,  0.75470579, -9.44429111], dtype=float32)"
      ]
     },
     "execution_count": 44,
     "metadata": {},
     "output_type": "execute_result"
    }
   ],
   "source": [
    "a3"
   ]
  },
  {
   "cell_type": "code",
   "execution_count": 110,
   "metadata": {},
   "outputs": [],
   "source": [
    "y = np.array([5,0,0,0,0,0,0,0,0,0])"
   ]
  },
  {
   "cell_type": "code",
   "execution_count": 83,
   "metadata": {},
   "outputs": [],
   "source": [
    "a_back2 = sigmoid(np.dot(W3,y-b3))\n",
    "a_back1 = sigmoid(np.dot(W2,a_back2-b2))\n",
    "a_back = sigmoid(np.dot(W1,a_back1-b1))\n",
    "img_show(np.absolute(a_back-0.5)*255)"
   ]
  },
  {
   "cell_type": "code",
   "execution_count": 81,
   "metadata": {},
   "outputs": [],
   "source": [
    "a_back2 = sigmoid(np.dot(W3,y))\n",
    "a_back1 = sigmoid(np.dot(W2,a_back2))\n",
    "a_back = sigmoid(np.dot(W1,a_back1))\n",
    "img_show((a_back-0.5)*255)"
   ]
  },
  {
   "cell_type": "code",
   "execution_count": 85,
   "metadata": {},
   "outputs": [],
   "source": []
  },
  {
   "cell_type": "code",
   "execution_count": 111,
   "metadata": {},
   "outputs": [],
   "source": [
    "a_back2 = sigmoid(np.dot(W3,y))-0.5\n",
    "a_back1 = sigmoid(np.dot(W2,a_back2-b2))-0.5\n",
    "a_back = sigmoid(np.dot(W1,a_back1-b1))\n",
    "img = a_back-0.5\n",
    "img[img<0] = 0\n",
    "img_show(img*255)"
   ]
  },
  {
   "cell_type": "code",
   "execution_count": 112,
   "metadata": {},
   "outputs": [
    {
     "data": {
      "text/plain": [
       "array([-0.06750315,  0.0695926 , -0.02730473,  0.02256093, -0.22001474,\n",
       "       -0.22038847,  0.04862635,  0.13499236,  0.23342554, -0.0487357 ,\n",
       "        0.10170191, -0.03076038,  0.15482435,  0.05212503,  0.06017235,\n",
       "       -0.03364862, -0.11218343, -0.26460695, -0.03323386,  0.13610415,\n",
       "        0.06354368,  0.04679805, -0.01621654, -0.05775835, -0.03108677,\n",
       "        0.10366164, -0.0845938 ,  0.11665157,  0.21852103,  0.04437255,\n",
       "        0.03378392, -0.01720384, -0.07383765,  0.16152057, -0.10621249,\n",
       "       -0.01646949,  0.00913961,  0.10238428,  0.00916639, -0.0564299 ,\n",
       "       -0.10607515,  0.09892716, -0.07136887, -0.06349134,  0.12461706,\n",
       "        0.02242282, -0.00047972,  0.04527043, -0.15179175,  0.10716812], dtype=float32)"
      ]
     },
     "execution_count": 112,
     "metadata": {},
     "output_type": "execute_result"
    }
   ],
   "source": [
    "b1"
   ]
  },
  {
   "cell_type": "code",
   "execution_count": 113,
   "metadata": {},
   "outputs": [
    {
     "data": {
      "text/plain": [
       "array([-0.01471108, -0.07215131, -0.00155692,  0.12199665,  0.11603302,\n",
       "       -0.00754946,  0.04085451, -0.08496164,  0.02898045,  0.0199724 ,\n",
       "        0.19770803,  0.04365116, -0.06518728, -0.05226324,  0.0113163 ,\n",
       "        0.03049979,  0.04060355,  0.0695399 , -0.07778469,  0.0692313 ,\n",
       "       -0.09365533,  0.0548001 , -0.03843745,  0.02123107,  0.03793406,\n",
       "       -0.02806267, -0.01818407,  0.06870425,  0.0542943 ,  0.0674368 ,\n",
       "        0.06264312, -0.0233236 , -0.01589135,  0.01860516,  0.01839287,\n",
       "       -0.01568104, -0.07422207, -0.01606729, -0.02262172, -0.01007509,\n",
       "        0.0434415 , -0.12020151,  0.02802471, -0.07591944, -0.00533499,\n",
       "       -0.08935217, -0.0181419 ,  0.0330689 , -0.01812706, -0.07689384,\n",
       "       -0.02715412, -0.03847084, -0.05315471, -0.02153288,  0.06898243,\n",
       "        0.02431128, -0.00333816,  0.00817491,  0.03911701, -0.02924617,\n",
       "        0.07184725, -0.00356748,  0.02246175,  0.03987982, -0.04921926,\n",
       "        0.02454282,  0.05875788,  0.08505439, -0.00190306, -0.03044275,\n",
       "       -0.06383366,  0.0470311 , -0.12005549,  0.03573952, -0.04293387,\n",
       "        0.03283867, -0.03347731, -0.13659105, -0.00123189,  0.00096832,\n",
       "        0.04590394, -0.02517798, -0.02073979,  0.02005584,  0.010629  ,\n",
       "        0.01902938, -0.01046924,  0.05777885,  0.04737163, -0.04362756,\n",
       "        0.07450858,  0.05077952,  0.06648835,  0.04064002, -0.00265163,\n",
       "        0.00576806, -0.09652461, -0.05131314,  0.02199687, -0.04358608], dtype=float32)"
      ]
     },
     "execution_count": 113,
     "metadata": {},
     "output_type": "execute_result"
    }
   ],
   "source": [
    "b2"
   ]
  },
  {
   "cell_type": "code",
   "execution_count": 114,
   "metadata": {},
   "outputs": [
    {
     "data": {
      "text/plain": [
       "array([-0.06023985,  0.00932628, -0.01359946,  0.02167128,  0.0107372 ,\n",
       "        0.06619699, -0.08397342, -0.00912251,  0.00576962,  0.0532335 ], dtype=float32)"
      ]
     },
     "execution_count": 114,
     "metadata": {},
     "output_type": "execute_result"
    }
   ],
   "source": [
    "b3"
   ]
  },
  {
   "cell_type": "code",
   "execution_count": 4,
   "metadata": {},
   "outputs": [
    {
     "name": "stdout",
     "output_type": "stream",
     "text": [
      "[[[ 0  1  2  3  4]\n",
      "  [ 5  6  7  8  9]\n",
      "  [10 11 12 13 14]]\n",
      "\n",
      " [[15 16 17 18 19]\n",
      "  [20 21 22 23 24]\n",
      "  [25 26 27 28 29]]]\n"
     ]
    }
   ],
   "source": [
    "a = np.arange(30).reshape(2, 3, 5)\n",
    "print(a)"
   ]
  },
  {
   "cell_type": "code",
   "execution_count": 5,
   "metadata": {},
   "outputs": [
    {
     "name": "stdout",
     "output_type": "stream",
     "text": [
      "[[ 0  1  2  3  4]\n",
      " [ 5  6  7  8  9]\n",
      " [10 11 12 13 14]]\n"
     ]
    }
   ],
   "source": [
    "print(a[0])"
   ]
  },
  {
   "cell_type": "code",
   "execution_count": 6,
   "metadata": {},
   "outputs": [
    {
     "data": {
      "text/plain": [
       "(3, 5)"
      ]
     },
     "execution_count": 6,
     "metadata": {},
     "output_type": "execute_result"
    }
   ],
   "source": [
    "a[0].shape"
   ]
  },
  {
   "cell_type": "code",
   "execution_count": 31,
   "metadata": {},
   "outputs": [
    {
     "data": {
      "text/plain": [
       "array([[[ 0,  1,  2,  3,  4],\n",
       "        [ 5,  6,  7,  8,  9],\n",
       "        [10, 11, 12, 13, 14]],\n",
       "\n",
       "       [[15, 16, 17, 18, 19],\n",
       "        [20, 21, 22, 23, 24],\n",
       "        [25, 26, 27, 28, 29]]])"
      ]
     },
     "execution_count": 31,
     "metadata": {},
     "output_type": "execute_result"
    }
   ],
   "source": [
    "a[::]"
   ]
  },
  {
   "cell_type": "code",
   "execution_count": 33,
   "metadata": {},
   "outputs": [
    {
     "data": {
      "text/plain": [
       "array([[0, 0, 0],\n",
       "       [0, 1, 0],\n",
       "       [0, 0, 2]])"
      ]
     },
     "execution_count": 33,
     "metadata": {},
     "output_type": "execute_result"
    }
   ],
   "source": [
    "a = np.diag(np.arange(3))\n",
    "a"
   ]
  },
  {
   "cell_type": "markdown",
   "metadata": {},
   "source": [
    "## その他"
   ]
  },
  {
   "cell_type": "code",
   "execution_count": 28,
   "metadata": {},
   "outputs": [],
   "source": [
    "len(x[1])\n",
    "a = np.ones(784)"
   ]
  },
  {
   "cell_type": "code",
   "execution_count": 29,
   "metadata": {
    "scrolled": true
   },
   "outputs": [
    {
     "data": {
      "text/plain": [
       "array([ 1.,  1.,  1.,  1.,  1.,  1.,  1.,  1.,  1.,  1.,  1.,  1.,  1.,\n",
       "        1.,  1.,  1.,  1.,  1.,  1.,  1.,  1.,  1.,  1.,  1.,  1.,  1.,\n",
       "        1.,  1.,  1.,  1.,  1.,  1.,  1.,  1.,  1.,  1.,  1.,  1.,  1.,\n",
       "        1.,  1.,  1.,  1.,  1.,  1.,  1.,  1.,  1.,  1.,  1.,  1.,  1.,\n",
       "        1.,  1.,  1.,  1.,  1.,  1.,  1.,  1.,  1.,  1.,  1.,  1.,  1.,\n",
       "        1.,  1.,  1.,  1.,  1.,  1.,  1.,  1.,  1.,  1.,  1.,  1.,  1.,\n",
       "        1.,  1.,  1.,  1.,  1.,  1.,  1.,  1.,  1.,  1.,  1.,  1.,  1.,\n",
       "        1.,  1.,  1.,  1.,  1.,  1.,  1.,  1.,  1.,  1.,  1.,  1.,  1.,\n",
       "        1.,  1.,  1.,  1.,  1.,  1.,  1.,  1.,  1.,  1.,  1.,  1.,  1.,\n",
       "        1.,  1.,  1.,  1.,  1.,  1.,  1.,  1.,  1.,  1.,  1.,  1.,  1.,\n",
       "        1.,  1.,  1.,  1.,  1.,  1.,  1.,  1.,  1.,  1.,  1.,  1.,  1.,\n",
       "        1.,  1.,  1.,  1.,  1.,  1.,  1.,  1.,  1.,  1.,  1.,  1.,  1.,\n",
       "        1.,  1.,  1.,  1.,  1.,  1.,  1.,  1.,  1.,  1.,  1.,  1.,  1.,\n",
       "        1.,  1.,  1.,  1.,  1.,  1.,  1.,  1.,  1.,  1.,  1.,  1.,  1.,\n",
       "        1.,  1.,  1.,  1.,  1.,  1.,  1.,  1.,  1.,  1.,  1.,  1.,  1.,\n",
       "        1.,  1.,  1.,  1.,  1.,  1.,  1.,  1.,  1.,  1.,  1.,  1.,  1.,\n",
       "        1.,  1.,  1.,  1.,  1.,  1.,  1.,  1.,  1.,  1.,  1.,  1.,  1.,\n",
       "        1.,  1.,  1.,  1.,  1.,  1.,  1.,  1.,  1.,  1.,  1.,  1.,  1.,\n",
       "        1.,  1.,  1.,  1.,  1.,  1.,  1.,  1.,  1.,  1.,  1.,  1.,  1.,\n",
       "        1.,  1.,  1.,  1.,  1.,  1.,  1.,  1.,  1.,  1.,  1.,  1.,  1.,\n",
       "        1.,  1.,  1.,  1.,  1.,  1.,  1.,  1.,  1.,  1.,  1.,  1.,  1.,\n",
       "        1.,  1.,  1.,  1.,  1.,  1.,  1.,  1.,  1.,  1.,  1.,  1.,  1.,\n",
       "        1.,  1.,  1.,  1.,  1.,  1.,  1.,  1.,  1.,  1.,  1.,  1.,  1.,\n",
       "        1.,  1.,  1.,  1.,  1.,  1.,  1.,  1.,  1.,  1.,  1.,  1.,  1.,\n",
       "        1.,  1.,  1.,  1.,  1.,  1.,  1.,  1.,  1.,  1.,  1.,  1.,  1.,\n",
       "        1.,  1.,  1.,  1.,  1.,  1.,  1.,  1.,  1.,  1.,  1.,  1.,  1.,\n",
       "        1.,  1.,  1.,  1.,  1.,  1.,  1.,  1.,  1.,  1.,  1.,  1.,  1.,\n",
       "        1.,  1.,  1.,  1.,  1.,  1.,  1.,  1.,  1.,  1.,  1.,  1.,  1.,\n",
       "        1.,  1.,  1.,  1.,  1.,  1.,  1.,  1.,  1.,  1.,  1.,  1.,  1.,\n",
       "        1.,  1.,  1.,  1.,  1.,  1.,  1.,  1.,  1.,  1.,  1.,  1.,  1.,\n",
       "        1.,  1.,  1.,  1.,  1.,  1.,  1.,  1.,  1.,  1.,  1.,  1.,  1.,\n",
       "        1.,  1.,  1.,  1.,  1.,  1.,  1.,  1.,  1.,  1.,  1.,  1.,  1.,\n",
       "        1.,  1.,  1.,  1.,  1.,  1.,  1.,  1.,  1.,  1.,  1.,  1.,  1.,\n",
       "        1.,  1.,  1.,  1.,  1.,  1.,  1.,  1.,  1.,  1.,  1.,  1.,  1.,\n",
       "        1.,  1.,  1.,  1.,  1.,  1.,  1.,  1.,  1.,  1.,  1.,  1.,  1.,\n",
       "        1.,  1.,  1.,  1.,  1.,  1.,  1.,  1.,  1.,  1.,  1.,  1.,  1.,\n",
       "        1.,  1.,  1.,  1.,  1.,  1.,  1.,  1.,  1.,  1.,  1.,  1.,  1.,\n",
       "        1.,  1.,  1.,  1.,  1.,  1.,  1.,  1.,  1.,  1.,  1.,  1.,  1.,\n",
       "        1.,  1.,  1.,  1.,  1.,  1.,  1.,  1.,  1.,  1.,  1.,  1.,  1.,\n",
       "        1.,  1.,  1.,  1.,  1.,  1.,  1.,  1.,  1.,  1.,  1.,  1.,  1.,\n",
       "        1.,  1.,  1.,  1.,  1.,  1.,  1.,  1.,  1.,  1.,  1.,  1.,  1.,\n",
       "        1.,  1.,  1.,  1.,  1.,  1.,  1.,  1.,  1.,  1.,  1.,  1.,  1.,\n",
       "        1.,  1.,  1.,  1.,  1.,  1.,  1.,  1.,  1.,  1.,  1.,  1.,  1.,\n",
       "        1.,  1.,  1.,  1.,  1.,  1.,  1.,  1.,  1.,  1.,  1.,  1.,  1.,\n",
       "        1.,  1.,  1.,  1.,  1.,  1.,  1.,  1.,  1.,  1.,  1.,  1.,  1.,\n",
       "        1.,  1.,  1.,  1.,  1.,  1.,  1.,  1.,  1.,  1.,  1.,  1.,  1.,\n",
       "        1.,  1.,  1.,  1.,  1.,  1.,  1.,  1.,  1.,  1.,  1.,  1.,  1.,\n",
       "        1.,  1.,  1.,  1.,  1.,  1.,  1.,  1.,  1.,  1.,  1.,  1.,  1.,\n",
       "        1.,  1.,  1.,  1.,  1.,  1.,  1.,  1.,  1.,  1.,  1.,  1.,  1.,\n",
       "        1.,  1.,  1.,  1.,  1.,  1.,  1.,  1.,  1.,  1.,  1.,  1.,  1.,\n",
       "        1.,  1.,  1.,  1.,  1.,  1.,  1.,  1.,  1.,  1.,  1.,  1.,  1.,\n",
       "        1.,  1.,  1.,  1.,  1.,  1.,  1.,  1.,  1.,  1.,  1.,  1.,  1.,\n",
       "        1.,  1.,  1.,  1.,  1.,  1.,  1.,  1.,  1.,  1.,  1.,  1.,  1.,\n",
       "        1.,  1.,  1.,  1.,  1.,  1.,  1.,  1.,  1.,  1.,  1.,  1.,  1.,\n",
       "        1.,  1.,  1.,  1.,  1.,  1.,  1.,  1.,  1.,  1.,  1.,  1.,  1.,\n",
       "        1.,  1.,  1.,  1.,  1.,  1.,  1.,  1.,  1.,  1.,  1.,  1.,  1.,\n",
       "        1.,  1.,  1.,  1.,  1.,  1.,  1.,  1.,  1.,  1.,  1.,  1.,  1.,\n",
       "        1.,  1.,  1.,  1.,  1.,  1.,  1.,  1.,  1.,  1.,  1.,  1.,  1.,\n",
       "        1.,  1.,  1.,  1.,  1.,  1.,  1.,  1.,  1.,  1.,  1.,  1.,  1.,\n",
       "        1.,  1.,  1.,  1.,  1.,  1.,  1.,  1.,  1.,  1.,  1.,  1.,  1.,\n",
       "        1.,  1.,  1.,  1.])"
      ]
     },
     "execution_count": 29,
     "metadata": {},
     "output_type": "execute_result"
    }
   ],
   "source": [
    "a"
   ]
  },
  {
   "cell_type": "code",
   "execution_count": 30,
   "metadata": {},
   "outputs": [],
   "source": [
    "b = np.dot(a,W1)"
   ]
  },
  {
   "cell_type": "code",
   "execution_count": 31,
   "metadata": {},
   "outputs": [
    {
     "data": {
      "text/plain": [
       "array([  9.28849981,  10.9605646 ,   0.92168225,  -6.63758669,\n",
       "        10.15810469,  14.37382857,   3.00897769,   3.4320765 ,\n",
       "         4.37988335,   7.44220602,   5.62293486,   0.64439512,\n",
       "        -6.3401685 ,   4.77585095,  -6.11515536,   5.69158816,\n",
       "         3.33390744,  -0.09964726, -19.01050093,   3.81952035,\n",
       "        -6.54792708, -15.94137216,   0.06930643,   3.04796972,\n",
       "         5.27021385,  -0.45225731,  -3.65994092,  -6.74976545,\n",
       "         1.86064778,  -0.18069476, -13.73797104,   2.85967336,\n",
       "         9.83846913,  -1.3493783 ,   5.96604782, -10.40392819,\n",
       "        -1.50540849,   5.74518596,   1.73586532,   5.11057426,\n",
       "         2.51164266,  -5.30909512,   0.55233124,  -2.83128204,\n",
       "        -8.64246568,   4.62619776,  11.04398038,  -1.8581497 ,\n",
       "        -0.87277046,  -5.13591209])"
      ]
     },
     "execution_count": 31,
     "metadata": {},
     "output_type": "execute_result"
    }
   ],
   "source": [
    "b"
   ]
  },
  {
   "cell_type": "code",
   "execution_count": 34,
   "metadata": {},
   "outputs": [
    {
     "data": {
      "text/plain": [
       "array([  3.96334857e-02,   1.95775956e-04,   1.06390808e-01,\n",
       "         6.61843026e-01,   1.54414102e-05,   7.30989483e-02,\n",
       "         1.42304296e-04,   4.09463419e-04,   1.18094459e-01,\n",
       "         1.76287669e-04])"
      ]
     },
     "execution_count": 34,
     "metadata": {},
     "output_type": "execute_result"
    }
   ],
   "source": [
    "predict(network,a)"
   ]
  },
  {
   "cell_type": "code",
   "execution_count": 69,
   "metadata": {},
   "outputs": [
    {
     "name": "stdout",
     "output_type": "stream",
     "text": [
      "3\n"
     ]
    },
    {
     "data": {
      "image/png": "[encoded data removed]",
      "text/plain": [
       "<matplotlib.figure.Figure at 0x784a7b0>"
      ]
     },
     "metadata": {},
     "output_type": "display_data"
    }
   ],
   "source": [
    "i=18\n",
    "print(t[i])\n",
    "plt_show(x[i])"
   ]
  },
  {
   "cell_type": "code",
   "execution_count": 70,
   "metadata": {},
   "outputs": [
    {
     "data": {
      "text/plain": [
       "array([  5.03678108e-04,   4.14391188e-03,   7.13972524e-02,\n",
       "         8.61154079e-01,   3.36609257e-04,   2.55517997e-02,\n",
       "         7.85598624e-03,   6.08135830e-04,   2.82928403e-02,\n",
       "         1.55703630e-04], dtype=float32)"
      ]
     },
     "execution_count": 70,
     "metadata": {},
     "output_type": "execute_result"
    }
   ],
   "source": [
    "predict(network,x[18])"
   ]
  },
  {
   "cell_type": "code",
   "execution_count": 73,
   "metadata": {},
   "outputs": [
    {
     "name": "stdout",
     "output_type": "stream",
     "text": [
      "[ 2.55150938  2.43416381 -0.35033029 -1.89666224  3.42736101  1.93005514\n",
      " -1.99937606  1.96213841  2.3505249   6.4472084  -0.02830548  2.50369811\n",
      " -4.55304241  4.70643282 -2.18063378  2.13370824 -1.44274807  0.20900171\n",
      " -6.53760386  0.5444144  -4.22266769 -2.18817759 -1.02531719  1.39134669\n",
      "  0.80541384 -0.45467094 -0.13598265 -1.86516154  2.13615537  0.60649747\n",
      " -4.8831625  -0.92683071  3.28234386  1.58611524  1.79981744 -3.1903429\n",
      "  1.20185626  1.97287762  2.05525446  1.95946157 -1.04362631 -1.51570463\n",
      " -0.97738016 -1.77669191 -2.09118962 -0.55641353  5.4186821  -3.63407493\n",
      " -0.87106043 -0.47239408]\n"
     ]
    }
   ],
   "source": [
    "print(np.dot(x[18],W1))"
   ]
  },
  {
   "cell_type": "code",
   "execution_count": 71,
   "metadata": {},
   "outputs": [],
   "source": [
    "a0=np.zeros_like(x[1])"
   ]
  },
  {
   "cell_type": "code",
   "execution_count": 72,
   "metadata": {},
   "outputs": [
    {
     "data": {
      "text/plain": [
       "array([ 0.00369753,  0.02237163,  0.01116107,  0.01846799,  0.01421143,\n",
       "        0.42078003,  0.01033748,  0.48984006,  0.00081407,  0.00831865], dtype=float32)"
      ]
     },
     "execution_count": 72,
     "metadata": {},
     "output_type": "execute_result"
    }
   ],
   "source": [
    "predict(network,a0)"
   ]
  },
  {
   "cell_type": "code",
   "execution_count": 37,
   "metadata": {},
   "outputs": [],
   "source": [
    "a=[]"
   ]
  },
  {
   "cell_type": "code",
   "execution_count": 39,
   "metadata": {},
   "outputs": [],
   "source": [
    "a.append(np.zeros_like(x[1]))"
   ]
  },
  {
   "cell_type": "code",
   "execution_count": 42,
   "metadata": {},
   "outputs": [],
   "source": [
    "a[0][0]=1"
   ]
  },
  {
   "cell_type": "code",
   "execution_count": 46,
   "metadata": {},
   "outputs": [
    {
     "name": "stdout",
     "output_type": "stream",
     "text": [
      "[-0.00741249 -0.00790439 -0.01307499  0.01852573 -0.00153461 -0.00876485\n",
      " -0.02929461 -0.02101859 -0.01490408 -0.00563215 -0.00669386 -0.09532019\n",
      "  0.02302948  0.00116916  0.04227314  0.00876646  0.02783365 -0.03575159\n",
      "  0.01493105 -0.00444681 -0.01983534 -0.00654568  0.05530919  0.0602967\n",
      "  0.04177547 -0.01497498 -0.01285678  0.01684514 -0.01641353  0.03349771\n",
      "  0.01523217  0.03068517 -0.019785    0.01470414 -0.02748215  0.0103357\n",
      "  0.00324177  0.01369166  0.04739346 -0.00776699  0.01009176 -0.03811338\n",
      " -0.03022793 -0.00554773  0.06369497  0.0315716   0.06316955  0.01978721\n",
      " -0.04331266 -0.01350104]\n"
     ]
    }
   ],
   "source": [
    "b=[]\n",
    "b.append(np.dot(a[0],W1))\n",
    "print(b[0])"
   ]
  },
  {
   "cell_type": "code",
   "execution_count": 74,
   "metadata": {},
   "outputs": [
    {
     "data": {
      "text/plain": [
       "array([  4.83633252e-03,   1.10458664e-03,   9.44252312e-01,\n",
       "         1.43091511e-02,   5.69896656e-07,   6.67604851e-03,\n",
       "         2.75334045e-02,   1.27084218e-06,   1.28642481e-03,\n",
       "         4.78648055e-08], dtype=float32)"
      ]
     },
     "execution_count": 74,
     "metadata": {},
     "output_type": "execute_result"
    }
   ],
   "source": [
    "predict(network,x[1])"
   ]
  },
  {
   "cell_type": "code",
   "execution_count": 75,
   "metadata": {
    "scrolled": true
   },
   "outputs": [
    {
     "data": {
      "text/plain": [
       "array([  2.91370274e-03,   8.87652626e-04,   9.64417636e-01,\n",
       "         8.19296204e-03,   2.16468635e-07,   3.62283667e-03,\n",
       "         1.93195846e-02,   5.61577565e-07,   6.44852640e-04,\n",
       "         1.25607533e-08], dtype=float32)"
      ]
     },
     "execution_count": 75,
     "metadata": {},
     "output_type": "execute_result"
    }
   ],
   "source": [
    "predict(network,x[1]*2)"
   ]
  },
  {
   "cell_type": "code",
   "execution_count": 76,
   "metadata": {},
   "outputs": [
    {
     "data": {
      "text/plain": [
       "array([  2.17471039e-03,   9.50994727e-04,   9.69695628e-01,\n",
       "         7.51657318e-03,   1.70550223e-07,   3.06323660e-03,\n",
       "         1.60557833e-02,   4.78908248e-07,   5.42341790e-04,\n",
       "         8.81297435e-09], dtype=float32)"
      ]
     },
     "execution_count": 76,
     "metadata": {},
     "output_type": "execute_result"
    }
   ],
   "source": [
    "predict(network,x[1]*3)"
   ]
  },
  {
   "cell_type": "code",
   "execution_count": 79,
   "metadata": {},
   "outputs": [
    {
     "name": "stdout",
     "output_type": "stream",
     "text": [
      "0.0987905\n",
      "0.331249\n",
      "0.595076\n",
      "0.75743\n",
      "0.841429\n",
      "0.88619\n",
      "0.911762\n",
      "0.927367\n",
      "0.937436\n",
      "0.944252\n",
      "0.949062\n",
      "0.952588\n",
      "0.955265\n",
      "0.957364\n",
      "0.959059\n",
      "0.960465\n",
      "0.961659\n",
      "0.962694\n",
      "0.963604\n",
      "0.964418\n",
      "0.965152\n",
      "0.965821\n",
      "0.966435\n",
      "0.967001\n",
      "0.967527\n",
      "0.968018\n",
      "0.968476\n",
      "0.968907\n",
      "0.969313\n",
      "0.969696\n",
      "0.970059\n",
      "0.970403\n",
      "0.97073\n",
      "0.971043\n",
      "0.971341\n",
      "0.971626\n",
      "0.9719\n",
      "0.972164\n",
      "0.972417\n",
      "0.972662\n",
      "0.972898\n",
      "0.973126\n",
      "0.973347\n",
      "0.973562\n",
      "0.97377\n",
      "0.973972\n",
      "0.974169\n",
      "0.974361\n",
      "0.974548\n",
      "0.974731\n",
      "0.974909\n",
      "0.975083\n",
      "0.975253\n",
      "0.975419\n",
      "0.975582\n",
      "0.975742\n",
      "0.975898\n",
      "0.976051\n",
      "0.976202\n",
      "0.976349\n",
      "0.976493\n",
      "0.976635\n",
      "0.976775\n",
      "0.976911\n",
      "0.977046\n",
      "0.977177\n",
      "0.977307\n",
      "0.977434\n",
      "0.977559\n",
      "0.977682\n",
      "0.977803\n",
      "0.977921\n",
      "0.978038\n",
      "0.978152\n",
      "0.978265\n",
      "0.978376\n",
      "0.978485\n",
      "0.978592\n",
      "0.978697\n",
      "0.9788\n",
      "0.978902\n",
      "0.979001\n",
      "0.979099\n",
      "0.979196\n",
      "0.97929\n",
      "0.979384\n",
      "0.979475\n",
      "0.979565\n",
      "0.979653\n",
      "0.97974\n",
      "0.979825\n",
      "0.979909\n",
      "0.979992\n",
      "0.980072\n",
      "0.980152\n",
      "0.98023\n",
      "0.980307\n",
      "0.980382\n",
      "0.980456\n"
     ]
    }
   ],
   "source": [
    "for i in range(1,100):\n",
    "    print(predict(network,x[1]*i/10)[2])"
   ]
  }
 ],
 "metadata": {
  "kernelspec": {
   "display_name": "Python 3",
   "language": "python",
   "name": "python3"
  },
  "language_info": {
   "codemirror_mode": {
    "name": "ipython",
    "version": 3
   },
   "file_extension": ".py",
   "mimetype": "text/x-python",
   "name": "python",
   "nbconvert_exporter": "python",
   "pygments_lexer": "ipython3",
   "version": "3.6.1"
  }
 },
 "nbformat": 4,
 "nbformat_minor": 2
}

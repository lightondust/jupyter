{
 "cells": [
  {
   "cell_type": "markdown",
   "metadata": {},
   "source": [
    "デフォルト\n",
    "\n",
    "- Ctrl+Shift+R:ファイル名で検索\n",
    "- Ctrl+Pagedown/up:タブ切り替え\n",
    "- ctrl + space 変数名補完\n",
    "- ctrl + 1 修正方法\n",
    "- ctrl + shift + f コードフォーマット\n",
    "- alt + Right or alt + Left 戻る・進む\n",
    "- ctrl + / コメントアウト・コメント取り消し\n",
    "- F2 ツールチップ説明の表示"
   ]
  },
  {
   "cell_type": "markdown",
   "metadata": {},
   "source": [
    "カスタマイズ\n",
    "\n",
    "- Ctrl+R 再ビルド\n",
    "- Ctrl+; / Ctrl+- 展開、折りたたみ"
   ]
  },
  {
   "cell_type": "markdown",
   "metadata": {},
   "source": [
    "https://qiita.com/arai-wa/items/c2eb7387b5bf37b4ace4  \n",
    "新人研修でドヤ顔で披露したらウケたEclipseのショートカット集\n",
    "\n",
    "役に立つやつ限定　地味なEclipseショートカット選手権  \n",
    "https://qiita.com/arai-wa/items/69a54b421cedfe648e84"
   ]
  }
 ],
 "metadata": {
  "kernelspec": {
   "display_name": "SciJava",
   "language": "groovy",
   "name": "scijava"
  },
  "language_info": {
   "codemirror_mode": "groovy",
   "file_extension": "",
   "mimetype": "",
   "name": "scijava",
   "nbconverter_exporter": "",
   "pygments_lexer": "groovy",
   "version": "1.0"
  },
  "toc": {
   "nav_menu": {},
   "number_sections": true,
   "sideBar": true,
   "skip_h1_title": false,
   "toc_cell": false,
   "toc_position": {},
   "toc_section_display": "block",
   "toc_window_display": false
  }
 },
 "nbformat": 4,
 "nbformat_minor": 2
}

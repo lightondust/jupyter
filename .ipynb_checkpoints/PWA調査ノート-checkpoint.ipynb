{
 "cells": [
  {
   "cell_type": "markdown",
   "metadata": {},
   "source": [
    "# PWAノート"
   ]
  },
  {
   "cell_type": "markdown",
   "metadata": {},
   "source": [
    "## リンク"
   ]
  },
  {
   "cell_type": "markdown",
   "metadata": {},
   "source": [
    "紹介動画(英語)  \n",
    "https://www.youtube.com/watch?v=MyQ8mtR9WxI&hl=ja\n",
    "\n",
    "プログレッシブウェブアプリ詳解 ─ 過去・現在・未来（日本語）  \n",
    "https://html5experts.jp/agektmr/20527/\n",
    "\n",
    "記事\n",
    "\n",
    "Web開発者は本当に対応するべきか？ Googleが提唱するPWAとは？  \n",
    "https://www.webprofessional.jp/progressive-web-apps-bridging-the-gap-between-web-and-mobile/\n",
    "\n",
    "やばい・・・SafariもPWAに対応する可能性  \n",
    "https://qiita.com/Yatima/items/b9f1962da1a304dc7604\n"
   ]
  },
  {
   "cell_type": "markdown",
   "metadata": {},
   "source": [
    "### チュートリアル"
   ]
  },
  {
   "cell_type": "markdown",
   "metadata": {},
   "source": [
    "（日本語）  \n",
    "https://developers.google.com/web/fundamentals/codelabs/your-first-pwapp/?hl=ja\n",
    "\n",
    "\n",
    "（英語）  \n",
    "https://codelabs.developers.google.com/codelabs/your-first-pwapp/#1"
   ]
  },
  {
   "cell_type": "markdown",
   "metadata": {},
   "source": [
    "### Service Worker"
   ]
  },
  {
   "cell_type": "markdown",
   "metadata": {},
   "source": [
    "Service Workerってなんなのよ (Service Workerのえほん)  \n",
    "https://qiita.com/kosamari/items/5e2235d26eb339a33660\n",
    "\n",
    "**オフライン クックブック(開発者による解説、いつどんなふうにキャッシュを使うかの考え方など)  \n",
    "https://developers.google.com/web/fundamentals/instant-and-offline/offline-cookbook/?hl=ja**\n",
    "\n",
    "Progressive Web App のオフライン ストレージ（ストレージの容量など）  \n",
    "https://developers.google.com/web/fundamentals/instant-and-offline/web-storage/offline-for-pwa?hl=ja\n",
    "\n",
    "Live Data in the Service Worker(英語、ストレージ使用の指針)  \n",
    "https://developers.google.com/web/ilt/pwa/live-data-in-the-service-worker\n",
    "\n",
    "JavaScript の Promise: 概要  \n",
    "https://developers.google.com/web/fundamentals/primers/promises?hl=ja"
   ]
  },
  {
   "cell_type": "markdown",
   "metadata": {},
   "source": [
    "## 概要"
   ]
  },
  {
   "cell_type": "markdown",
   "metadata": {},
   "source": [
    "必要なことが主に二つ：\n",
    "\n",
    "- manifest.jsonでデスクトップ保存時の設定\n",
    "- service-work.jsの登録、インストール、設定でキャッシュを扱う"
   ]
  },
  {
   "cell_type": "markdown",
   "metadata": {},
   "source": [
    "### Service-Work"
   ]
  },
  {
   "cell_type": "markdown",
   "metadata": {},
   "source": [
    "**注意**  \n",
    "<font color=\"Red\">\n",
    "service-work.jsは一度登録するとソースを書き換えてもブラウザ側が変わらないので、開発者ツール⇒application⇒Service WorkersでUpdate on reloadにチェックを入れる\n",
    "</font>"
   ]
  },
  {
   "cell_type": "markdown",
   "metadata": {},
   "source": [
    "### PWAとは"
   ]
  },
  {
   "cell_type": "markdown",
   "metadata": {},
   "source": [
    "PWA = モバイルのWEBページでネイティブアプリのようなUXを提供するためのもの\n",
    "\n",
    "Progressive Web Appsの略。\n",
    "\n",
    "- ページの読み込みや表示が速い\n",
    "- オフラインでも動く\n",
    "    - 画面遷移をともなう操作もオフライン時に可能\n",
    "- プッシュ通知の受信が可能\n",
    "- インストール不要\n",
    "- ストアの審査なくアップデートが可能\n",
    "- GPSを使った現在地取得と利用が可能\n",
    "- ネイティブアプリのようなUIを実現できる\n",
    "    - ブラウザデフォルトのUI（上部のメニューバー）を非表示にするなどのカスタマイズが可能\n",
    "\n",
    "-「ホームに追加」ボタンを表示でき、ホームに追加されたページはインストールされたアプリのように扱える\n",
    "    - ホーム画面のアイコンが設定できる\n",
    "    - 起動時のスプラッシュ画面が設定できる"
   ]
  },
  {
   "cell_type": "markdown",
   "metadata": {},
   "source": [
    "## PWAにするには"
   ]
  },
  {
   "cell_type": "markdown",
   "metadata": {},
   "source": [
    "### 状況など"
   ]
  },
  {
   "cell_type": "markdown",
   "metadata": {},
   "source": [
    "- Service Workers（オフライン対応、プッシュ通知）\n",
    "    - Push API\n",
    "    - Notification API\n",
    "- localStorage / IndexedDB（オフライン対応）\n",
    "- History API（オフライン対応）\n",
    "- Geolocation API（現在地取得）\n",
    "\n",
    "を使う。Googleが提供するWeb Starter Kit を使えば、PWAに必要なファイルやテンプレートの雛形を用意してくれ、PWAにおおむね沿った簡易的なページはすぐに作れる。"
   ]
  },
  {
   "cell_type": "markdown",
   "metadata": {},
   "source": [
    "**対応状況**\n",
    "\n",
    "- Chrome:\n",
    "    - Desktop Chrome, Android ChromeでPWA対応可能。\n",
    "- Safari:\n",
    "    - 対応不可(現在開発中２０１７年８月)。Service Workerなど、PWAに必要なAPIが実装されていない。 *1\n",
    "- Firefox:\n",
    "    - 一部の機能を除いてPWA対応可能。Web App Manifestに依存する機能は利用不可。\n",
    "- Internet Explorer/Edge:\n",
    "    - IEでは対応不可。Edgeでは次のメジャーバージョンでService Workerが利用可能になるため、一部の機能が利用可能に。 *2\n",
    "\n"
   ]
  },
  {
   "cell_type": "markdown",
   "metadata": {},
   "source": [
    "# 開発"
   ]
  },
  {
   "cell_type": "markdown",
   "metadata": {},
   "source": [
    "## 準備"
   ]
  },
  {
   "cell_type": "markdown",
   "metadata": {},
   "source": [
    "**ノート**\n",
    "\n",
    "エミュレータからlocalhostにアクセスするには：  \n",
    "http://10.0.2.2:8080/\n",
    "\n",
    "\n"
   ]
  },
  {
   "cell_type": "markdown",
   "metadata": {},
   "source": [
    "情報いろいろ：\n",
    "\n",
    "- 分かりやすい例で言えば、既存のサイトでも、manifestファイルひとつをサーバーに置いて、HTMLに参照するタグを追加するだけで、ホーム画面から起動する時の体験がグッと良くなったり（一日あればできる）http://qiita.com/horo/items/ff665e4a6613e7684f8f …\n",
    "- Workboxを使えば、Service Workerの詳細を意識せずに、繰り返し使うリソースをキャッシュしてロード時間を早くしたりもできるしhttps://workboxjs.org\n",
    "\n",
    "\n",
    "- ウェブアプリにはFirebase + Vue.jsがめっちゃ便利．\n",
    "\n"
   ]
  },
  {
   "cell_type": "markdown",
   "metadata": {},
   "source": [
    "# Service Worker"
   ]
  },
  {
   "cell_type": "markdown",
   "metadata": {},
   "source": [
    "## ライブラリ"
   ]
  },
  {
   "cell_type": "markdown",
   "metadata": {},
   "source": [
    "sw-precache  \n",
    "https://github.com/GoogleChromeLabs/sw-precache\n",
    "\n",
    "Workbox  \n",
    "https://workboxjs.org/\n"
   ]
  },
  {
   "cell_type": "markdown",
   "metadata": {},
   "source": [
    "## 容量"
   ]
  },
  {
   "cell_type": "markdown",
   "metadata": {},
   "source": [
    "| Left align | Right align | Center align |\n",
    "|:-----------|------------:|:------------:|\n",
    "| Chrome | 空き領域の | 6% 未満 |\n",
    "| Firefox | 空き領域の | 10% 未満 |\n",
    "|Safari|50 MB|未満|\n",
    "|IE10|250 MB|未満|\n",
    "\n",
    "https://developers.google.com/web/fundamentals/instant-and-offline/web-storage/offline-for-pwa?hl=ja\n",
    "\n"
   ]
  },
  {
   "cell_type": "markdown",
   "metadata": {},
   "source": [
    "## キャッシュ処方"
   ]
  },
  {
   "cell_type": "markdown",
   "metadata": {},
   "source": [
    "https://developers.google.com/web/fundamentals/instant-and-offline/offline-cookbook/?hl=ja"
   ]
  },
  {
   "cell_type": "markdown",
   "metadata": {},
   "source": [
    "### インストール時 - 依存関係として"
   ]
  },
  {
   "cell_type": "markdown",
   "metadata": {},
   "source": [
    "適しているケース: CSS、画像、フォント、JS、テンプレートなど（基本的にサイトの特定の「バージョン」に対して静的なすべてのもの）。\n",
    "\n",
    "```\n",
    "self.addEventListener('install', function(event) {\n",
    "  event.waitUntil(\n",
    "    caches.open('mysite-static-v3').then(function(cache) {\n",
    "      return cache.addAll([\n",
    "        '/css/whatever-v3.css',\n",
    "        '/css/imgs/sprites-v6.png',\n",
    "        '/css/fonts/whatever-v8.woff',\n",
    "        '/js/all-min-v4.js'\n",
    "        // etc\n",
    "      ]);\n",
    "    })\n",
    "  );\n",
    "});\n",
    "```"
   ]
  },
  {
   "cell_type": "markdown",
   "metadata": {},
   "source": [
    "### インストール時 - 依存関係としてではなく"
   ]
  },
  {
   "cell_type": "markdown",
   "metadata": {},
   "source": [
    "適しているケース: サイズが大きく、すぐには必要のないリソース（ゲームの後の方のレベルで使用されるアセットなど）。\n",
    "\n",
    "```\n",
    "self.addEventListener('install', function(event) {\n",
    "  event.waitUntil(\n",
    "    caches.open('mygame-core-v1').then(function(cache) {\n",
    "      cache.addAll(\n",
    "        // levels 11-20\n",
    "      );\n",
    "      return cache.addAll(\n",
    "        // core assets & levels 1-10\n",
    "      );\n",
    "    })\n",
    "  );\n",
    "});\n",
    "```\n",
    "\n",
    "levels 11-20 の cache.addAll Promise を event.waitUntil に渡していません。そのため、失敗してもゲームはオフラインで利用できます。これらのレベルが存在しない可能性を考慮し、存在しない場合はそれらのキャッシュを再試行することは必要になります。"
   ]
  },
  {
   "cell_type": "markdown",
   "metadata": {},
   "source": [
    "### アクティベート時"
   ]
  },
  {
   "cell_type": "markdown",
   "metadata": {},
   "source": [
    "適しているケース: クリーンアップと移行。\n",
    "\n",
    "```\n",
    "self.addEventListener('activate', function(event) {\n",
    "  event.waitUntil(\n",
    "    caches.keys().then(function(cacheNames) {\n",
    "      return Promise.all(\n",
    "        cacheNames.filter(function(cacheName) {\n",
    "          // Return true if you want to remove this cache,\n",
    "          // but remember that caches are shared across\n",
    "          // the whole origin\n",
    "        }).map(function(cacheName) {\n",
    "          return caches.delete(cacheName);\n",
    "        })\n",
    "      );\n",
    "    })\n",
    "  );\n",
    "});\n",
    "```\n",
    "\n",
    "アクティベート中、fetch などの他のイベントはキューに入れられるため、アクティベートに時間がかかると、ページの読み込みがブロックされてしまう可能性があります。 アクティベートはできるだけ短時間で済ませ、古いバージョンがアクティブだったときに実行できなかった処理のみにアクティベーションを使用するようにしてください。"
   ]
  },
  {
   "cell_type": "markdown",
   "metadata": {},
   "source": [
    "### ユーザー操作時"
   ]
  },
  {
   "cell_type": "markdown",
   "metadata": {},
   "source": [
    "適しているケース: サイト全体をオフラインで利用できない場合に、オフラインで利用したいコンテンツをユーザーが選択できるようにします。 たとえば、YouTube などでの動画、Wikipedia の記事、Flickr の特定のギャラリー。\n",
    "\n",
    "```\n",
    "document.querySelector('.cache-article').addEventListener('click', function(event) {\n",
    "  event.preventDefault();\n",
    "\n",
    "  var id = this.dataset.articleId;\n",
    "  caches.open('mysite-article-' + id).then(function(cache) {\n",
    "    fetch('/get-article-urls?id=' + id).then(function(response) {\n",
    "      // /get-article-urls returns a JSON-encoded array of\n",
    "      // resource URLs that a given article depends on\n",
    "      return response.json();\n",
    "    }).then(function(urls) {\n",
    "      cache.addAll(urls);\n",
    "    });\n",
    "  });\n",
    "});\n",
    "```"
   ]
  },
  {
   "cell_type": "markdown",
   "metadata": {},
   "source": [
    "### ネットワークの応答時"
   ]
  },
  {
   "cell_type": "markdown",
   "metadata": {},
   "source": [
    "適しているケース: ユーザーの受信トレイや記事コンテンツなど、頻繁にアップデートされるリソース。 また、注意が必要ではありますが、アバターなどの必須でないコンテンツ。\n",
    "\n",
    "```\n",
    "self.addEventListener('fetch', function(event) {\n",
    "  event.respondWith(\n",
    "    caches.open('mysite-dynamic').then(function(cache) {\n",
    "      return cache.match(event.request).then(function (response) {\n",
    "        return response || fetch(event.request).then(function(response) {\n",
    "          cache.put(event.request, response.clone());\n",
    "          return response;\n",
    "        });\n",
    "      });\n",
    "    })\n",
    "  );\n",
    "});\n",
    "```"
   ]
  },
  {
   "cell_type": "markdown",
   "metadata": {},
   "source": [
    "### stale-while-revalidate"
   ]
  },
  {
   "cell_type": "markdown",
   "metadata": {},
   "source": [
    "適しているケース: 頻繁にアップデートされるが、必ずしも最新のバージョンである必要がないリソース。 アバターはこのカテゴリに該当します。\n",
    "\n",
    "```\n",
    "self.addEventListener('fetch', function(event) {\n",
    "  event.respondWith(\n",
    "    caches.open('mysite-dynamic').then(function(cache) {\n",
    "      return cache.match(event.request).then(function(response) {\n",
    "        var fetchPromise = fetch(event.request).then(function(networkResponse) {\n",
    "          cache.put(event.request, networkResponse.clone());\n",
    "          return networkResponse;\n",
    "        })\n",
    "        return response || fetchPromise;\n",
    "      })\n",
    "    })\n",
    "  );\n",
    "});\n",
    "```"
   ]
  },
  {
   "cell_type": "markdown",
   "metadata": {},
   "source": [
    "### プッシュ メッセージ時"
   ]
  },
  {
   "cell_type": "markdown",
   "metadata": {},
   "source": [
    "### バックグラウンド同期時"
   ]
  },
  {
   "cell_type": "markdown",
   "metadata": {},
   "source": [
    "試験運用:バックグラウンド同期は Chrome ではまだ安定的にサポートされていません。"
   ]
  },
  {
   "cell_type": "markdown",
   "metadata": {},
   "source": [
    "# WebPush"
   ]
  },
  {
   "cell_type": "markdown",
   "metadata": {},
   "source": [
    "- アプリサーバー\n",
    "- プッシュサーバー\n",
    "- ブラウザ\n",
    "\n",
    "ブラウザからプッシュ購読するとendpointが払いだされ、アプリサーバーがそれを使ってPushする。\n",
    "\n",
    "event.dataからデータをparseできない。\n",
    "https://stackoverflow.com/questions/42375352/why-is-my-service-workers-push-event-data-payload-null"
   ]
  }
 ],
 "metadata": {
  "kernelspec": {
   "display_name": "Python 3",
   "language": "python",
   "name": "python3"
  },
  "language_info": {
   "codemirror_mode": {
    "name": "ipython",
    "version": 3
   },
   "file_extension": ".py",
   "mimetype": "text/x-python",
   "name": "python",
   "nbconvert_exporter": "python",
   "pygments_lexer": "ipython3",
   "version": "3.6.3"
  },
  "toc": {
   "nav_menu": {},
   "number_sections": true,
   "sideBar": true,
   "skip_h1_title": false,
   "toc_cell": false,
   "toc_position": {
    "height": "835px",
    "left": "0px",
    "right": "1624px",
    "top": "110px",
    "width": "288px"
   },
   "toc_section_display": "block",
   "toc_window_display": true
  }
 },
 "nbformat": 4,
 "nbformat_minor": 2
}

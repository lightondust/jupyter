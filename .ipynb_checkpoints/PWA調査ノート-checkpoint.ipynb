{
 "cells": [
  {
   "cell_type": "markdown",
   "metadata": {},
   "source": [
    "# PWAノート"
   ]
  },
  {
   "cell_type": "markdown",
   "metadata": {
    "heading_collapsed": true
   },
   "source": [
    "## リンク"
   ]
  },
  {
   "cell_type": "markdown",
   "metadata": {
    "hidden": true
   },
   "source": [
    "紹介動画(英語)  \n",
    "https://www.youtube.com/watch?v=MyQ8mtR9WxI&hl=ja\n",
    "\n",
    "記事\n",
    "\n",
    "Web開発者は本当に対応するべきか？ Googleが提唱するPWAとは？  \n",
    "https://www.webprofessional.jp/progressive-web-apps-bridging-the-gap-between-web-and-mobile/"
   ]
  },
  {
   "cell_type": "markdown",
   "metadata": {
    "hidden": true
   },
   "source": [
    "### チュートリアル"
   ]
  },
  {
   "cell_type": "markdown",
   "metadata": {
    "hidden": true
   },
   "source": [
    "（日本語）  \n",
    "https://developers.google.com/web/fundamentals/codelabs/your-first-pwapp/?hl=ja\n",
    "\n",
    "\n",
    "（英語）  \n",
    "https://codelabs.developers.google.com/codelabs/your-first-pwapp/#1"
   ]
  },
  {
   "cell_type": "markdown",
   "metadata": {},
   "source": [
    "## 概要"
   ]
  },
  {
   "cell_type": "markdown",
   "metadata": {},
   "source": [
    "必要なことが主に二つ：\n",
    "\n",
    "- manifest.jsonでデスクトップ保存時の設定\n",
    "- service-work.jsの登録、インストール、設定でキャッシュを扱う"
   ]
  },
  {
   "cell_type": "markdown",
   "metadata": {},
   "source": [
    "### Service-Work"
   ]
  },
  {
   "cell_type": "markdown",
   "metadata": {},
   "source": [
    "**注意**  \n",
    "<font color=\"Red\">\n",
    "service-work.jsは一度登録するとソースを書き換えてもブラウザ側が変わらないので、開発者ツール⇒application⇒Service WorkersでUpdate on reloadにチェックを入れる\n",
    "</font>"
   ]
  },
  {
   "cell_type": "markdown",
   "metadata": {
    "heading_collapsed": true
   },
   "source": [
    "### PWAとは"
   ]
  },
  {
   "cell_type": "markdown",
   "metadata": {
    "hidden": true
   },
   "source": [
    "PWA = モバイルのWEBページでネイティブアプリのようなUXを提供するためのもの\n",
    "\n",
    "Progressive Web Appsの略。\n",
    "\n",
    "- ページの読み込みや表示が速い\n",
    "- オフラインでも動く\n",
    "    - 画面遷移をともなう操作もオフライン時に可能\n",
    "- プッシュ通知の受信が可能\n",
    "- インストール不要\n",
    "- ストアの審査なくアップデートが可能\n",
    "- GPSを使った現在地取得と利用が可能\n",
    "- ネイティブアプリのようなUIを実現できる\n",
    "    - ブラウザデフォルトのUI（上部のメニューバー）を非表示にするなどのカスタマイズが可能\n",
    "\n",
    "-「ホームに追加」ボタンを表示でき、ホームに追加されたページはインストールされたアプリのように扱える\n",
    "    - ホーム画面のアイコンが設定できる\n",
    "    - 起動時のスプラッシュ画面が設定できる"
   ]
  },
  {
   "cell_type": "markdown",
   "metadata": {},
   "source": [
    "## PWAにするには"
   ]
  },
  {
   "cell_type": "markdown",
   "metadata": {
    "heading_collapsed": true
   },
   "source": [
    "### 状況など"
   ]
  },
  {
   "cell_type": "markdown",
   "metadata": {
    "hidden": true
   },
   "source": [
    "- Service Workers（オフライン対応、プッシュ通知）\n",
    "    - Push API\n",
    "    - Notification API\n",
    "- localStorage / IndexedDB（オフライン対応）\n",
    "- History API（オフライン対応）\n",
    "- Geolocation API（現在地取得）\n",
    "\n",
    "を使う。Googleが提供するWeb Starter Kit を使えば、PWAに必要なファイルやテンプレートの雛形を用意してくれ、PWAにおおむね沿った簡易的なページはすぐに作れる。"
   ]
  },
  {
   "cell_type": "markdown",
   "metadata": {
    "hidden": true
   },
   "source": [
    "**対応状況**\n",
    "\n",
    "- Chrome:\n",
    "    - Desktop Chrome, Android ChromeでPWA対応可能。\n",
    "- Safari:\n",
    "    - 対応不可。Service Workerなど、PWAに必要なAPIが実装されていない。 *1\n",
    "- Firefox:\n",
    "    - 一部の機能を除いてPWA対応可能。Web App Manifestに依存する機能は利用不可。\n",
    "- Internet Explorer/Edge:\n",
    "    - IEでは対応不可。Edgeでは次のメジャーバージョンでService Workerが利用可能になるため、一部の機能が利用可能に。 *2\n",
    "\n"
   ]
  },
  {
   "cell_type": "markdown",
   "metadata": {},
   "source": [
    "# 開発"
   ]
  },
  {
   "cell_type": "markdown",
   "metadata": {},
   "source": [
    "## 準備"
   ]
  },
  {
   "cell_type": "markdown",
   "metadata": {},
   "source": [
    "**ノート**\n",
    "\n",
    "localhostにアクセスするには：  \n",
    "http://10.0.2.2:8080/\n",
    "\n",
    "\n"
   ]
  }
 ],
 "metadata": {
  "kernelspec": {
   "display_name": "Python 3",
   "language": "python",
   "name": "python3"
  },
  "language_info": {
   "codemirror_mode": {
    "name": "ipython",
    "version": 3
   },
   "file_extension": ".py",
   "mimetype": "text/x-python",
   "name": "python",
   "nbconvert_exporter": "python",
   "pygments_lexer": "ipython3",
   "version": "3.6.1"
  }
 },
 "nbformat": 4,
 "nbformat_minor": 2
}

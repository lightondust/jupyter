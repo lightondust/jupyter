{
 "cells": [
  {
   "cell_type": "markdown",
   "metadata": {
    "slideshow": {
     "slide_type": "slide"
    }
   },
   "source": [
    "# JunitとUnittest\n",
    "\n",
    "勉強会資料、2017年12月"
   ]
  },
  {
   "cell_type": "markdown",
   "metadata": {
    "slideshow": {
     "slide_type": "slide"
    }
   },
   "source": [
    "## テスト\n",
    "\n",
    ".\n",
    "\n",
    "<div style=\"text-align:center\">\n",
    "「テストは現場のベテランに任せている。彼らでないとモチベーション維持できない」（●●重工の人）\n",
    "</div>\n",
    "\n",
    ".\n",
    "\n",
    "- テストは重要？\n",
    "    - ではどれぐらいリソースをかけている？\n",
    "- 現実、テストがないと不安\n",
    "    - 自動化できたらうれしいことが結構ある"
   ]
  },
  {
   "cell_type": "markdown",
   "metadata": {
    "slideshow": {
     "slide_type": "slide"
    }
   },
   "source": [
    "## 今日の流れ\n",
    "\n",
    "- Junit\n",
    "    - 基本\n",
    "    - 嬉しい機能、よかったこと\n",
    "- Unittest\n",
    "    - 本当のところどうなの"
   ]
  },
  {
   "cell_type": "markdown",
   "metadata": {
    "slideshow": {
     "slide_type": "slide"
    }
   },
   "source": [
    "# Junit"
   ]
  },
  {
   "cell_type": "markdown",
   "metadata": {
    "slideshow": {
     "slide_type": "slide"
    }
   },
   "source": [
    "## Junit?\n",
    "\n",
    "- 開発環境でプロジェクト作るとおまけでついてくる「アレ」\n",
    "- そのせいでビルドが落ちる時がある（そしてtest結果を無視するように設定をする）"
   ]
  },
  {
   "cell_type": "markdown",
   "metadata": {
    "slideshow": {
     "slide_type": "slide"
    }
   },
   "source": [
    "<div style=\"text-align:center\">Junit、ちょっとメイワクなやつ</div>"
   ]
  },
  {
   "cell_type": "markdown",
   "metadata": {
    "slideshow": {
     "slide_type": "slide"
    }
   },
   "source": [
    "- Warファイルを作ったのにビルドできない\n",
    "- ローカルではちゃんと動く\n",
    "- Javaって「Write Once, Run everywhere」じゃなかったの？\n",
    "\n",
    "→　IDEが器用すぎることがある？（プロジェクト分割でconfigureクラスの書き方が間違っていて、クラスが見つかりませんエラー）"
   ]
  },
  {
   "cell_type": "markdown",
   "metadata": {
    "slideshow": {
     "slide_type": "slide"
    }
   },
   "source": [
    "<div style=\"text-align:center\">Junit、実はいいやつ</div>"
   ]
  },
  {
   "cell_type": "markdown",
   "metadata": {},
   "source": []
  },
  {
   "cell_type": "markdown",
   "metadata": {
    "slideshow": {
     "slide_type": "slide"
    }
   },
   "source": [
    "# Unittest"
   ]
  },
  {
   "cell_type": "markdown",
   "metadata": {
    "slideshow": {
     "slide_type": "slide"
    }
   },
   "source": [
    "<div style=\"text-align:center\">to be or not to be, that is the question</div>"
   ]
  },
  {
   "cell_type": "markdown",
   "metadata": {
    "slideshow": {
     "slide_type": "slide"
    }
   },
   "source": [
    "<div style=\"text-align:center\">\n",
    "Why Most Unit Testing is Waste\n",
    "</div>\n",
    "<div style=\"text-align:center\"> - Rex Black</div>\n",
    "\n",
    "\n",
    "<div style=\"text-align:right;margin-top:1em\">\n",
    "https://rbcs-us.com/documents/Why-Most-Unit-Testing-is-Waste.pdf\n",
    "</div>"
   ]
  },
  {
   "cell_type": "markdown",
   "metadata": {
    "slideshow": {
     "slide_type": "slide"
    }
   },
   "source": [
    "<div style=\"text-align:center\">\n",
    "単体テストコードは（ほとんどの場合）裸の王様？\n",
    "</div>"
   ]
  },
  {
   "cell_type": "markdown",
   "metadata": {
    "slideshow": {
     "slide_type": "slide"
    }
   },
   "source": [
    "- Q1:\n",
    "    - 皆さん、プロジェクトでどれくらいUnittestを書いていますか\n",
    "- Q2：\n",
    "    - Unittestを書いてよかったと思った経験は？\n",
    "- Q3:\n",
    "    - Unittestを書いた方がいいと思うときは？"
   ]
  },
  {
   "cell_type": "markdown",
   "metadata": {
    "slideshow": {
     "slide_type": "slide"
    }
   },
   "source": [
    "## 単体とは？\n",
    "\n",
    "How deep are your unit tests?\n",
    "\n",
    "https://stackoverflow.com/questions/153234/how-deep-are-your-unit-tests\n",
    "\n",
    "オオモノ（Kent Beck）の回答：\n",
    "\n",
    "I get paid for code that works, not for tests, so my philosophy is to test as little as possible to reach a given level of confidence (I suspect this level of confidence is high compared to industry standards, but that could just be hubris). If I don't typically make a kind of mistake (like setting the wrong variables in a constructor), I don't test for it. I do tend to make sense of test errors, so I'm extra careful when I have logic with complicated conditionals. When coding on a team, I modify my strategy to carefully test code that we, collectively, tend to get wrong.\n",
    "\n",
    "Different people will have different testing strategies based on this philosophy, but that seems reasonable to me given the immature state of understanding of how tests can best fit into the inner loop of coding. Ten or twenty years from now we'll likely have a more universal theory of which tests to write, which tests not to write, and how to tell the difference. In the meantime, experimentation seems in order."
   ]
  },
  {
   "cell_type": "markdown",
   "metadata": {},
   "source": [
    "\n",
    "\n",
    "https://www.facebook.com/notes/kent-beck/rip-tdd/750840194948847\n",
    "\n",
    "https://ubiteku.oinker.me/2015/08/10/rip-tdd/"
   ]
  },
  {
   "cell_type": "markdown",
   "metadata": {
    "slideshow": {
     "slide_type": "slide"
    }
   },
   "source": [
    "**どうしてこんなことになってしまったのか**\n",
    "\n",
    "https://ubiteku.oinker.me/2015/08/06/time-to-kill-agile/\n",
    "\n",
    "この過程を、Thomas氏は面白い表現で説明している。組織の管理者がアジャイルの評判を聞いて、それを自分の組織にも導入しようと号令をかける。すると、血に引き寄せられるサメのごとく、その周りをコンサルタントやコンサルティング会社が旋回し始める…\n",
    "\n",
    "当然の事ながら、コンサルタントのアドバイスは管理者受けが良いように最適化されるため、その段階で個人の主体性を大事にするアジャイルの価値は失われてしまった。"
   ]
  }
 ],
 "metadata": {
  "celltoolbar": "Slideshow",
  "kernelspec": {
   "display_name": "SciJava",
   "language": "groovy",
   "name": "scijava"
  },
  "language_info": {
   "codemirror_mode": "groovy",
   "file_extension": "",
   "mimetype": "",
   "name": "scijava",
   "nbconverter_exporter": "",
   "pygments_lexer": "groovy",
   "version": "1.0"
  },
  "toc": {
   "nav_menu": {},
   "number_sections": true,
   "sideBar": true,
   "skip_h1_title": false,
   "toc_cell": false,
   "toc_position": {},
   "toc_section_display": "block",
   "toc_window_display": false
  }
 },
 "nbformat": 4,
 "nbformat_minor": 2
}
